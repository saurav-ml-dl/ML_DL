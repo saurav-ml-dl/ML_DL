{
 "cells": [
  {
   "cell_type": "markdown",
   "metadata": {
    "colab_type": "text",
    "id": "jXdECu1KDkY-"
   },
   "source": [
    "# Step 1: Installation and Setup"
   ]
  },
  {
   "cell_type": "code",
   "execution_count": 1,
   "metadata": {
    "colab": {},
    "colab_type": "code",
    "id": "Y4-xnDWqFtYy"
   },
   "outputs": [
    {
     "name": "stderr",
     "output_type": "stream",
     "text": [
      "/Users/saurmoha/anaconda3/lib/python3.7/site-packages/tensorflow/python/framework/dtypes.py:516: FutureWarning: Passing (type, 1) or '1type' as a synonym of type is deprecated; in a future version of numpy, it will be understood as (type, (1,)) / '(1,)type'.\n",
      "  _np_qint8 = np.dtype([(\"qint8\", np.int8, 1)])\n",
      "/Users/saurmoha/anaconda3/lib/python3.7/site-packages/tensorflow/python/framework/dtypes.py:517: FutureWarning: Passing (type, 1) or '1type' as a synonym of type is deprecated; in a future version of numpy, it will be understood as (type, (1,)) / '(1,)type'.\n",
      "  _np_quint8 = np.dtype([(\"quint8\", np.uint8, 1)])\n",
      "/Users/saurmoha/anaconda3/lib/python3.7/site-packages/tensorflow/python/framework/dtypes.py:518: FutureWarning: Passing (type, 1) or '1type' as a synonym of type is deprecated; in a future version of numpy, it will be understood as (type, (1,)) / '(1,)type'.\n",
      "  _np_qint16 = np.dtype([(\"qint16\", np.int16, 1)])\n",
      "/Users/saurmoha/anaconda3/lib/python3.7/site-packages/tensorflow/python/framework/dtypes.py:519: FutureWarning: Passing (type, 1) or '1type' as a synonym of type is deprecated; in a future version of numpy, it will be understood as (type, (1,)) / '(1,)type'.\n",
      "  _np_quint16 = np.dtype([(\"quint16\", np.uint16, 1)])\n",
      "/Users/saurmoha/anaconda3/lib/python3.7/site-packages/tensorflow/python/framework/dtypes.py:520: FutureWarning: Passing (type, 1) or '1type' as a synonym of type is deprecated; in a future version of numpy, it will be understood as (type, (1,)) / '(1,)type'.\n",
      "  _np_qint32 = np.dtype([(\"qint32\", np.int32, 1)])\n",
      "/Users/saurmoha/anaconda3/lib/python3.7/site-packages/tensorflow/python/framework/dtypes.py:525: FutureWarning: Passing (type, 1) or '1type' as a synonym of type is deprecated; in a future version of numpy, it will be understood as (type, (1,)) / '(1,)type'.\n",
      "  np_resource = np.dtype([(\"resource\", np.ubyte, 1)])\n",
      "/Users/saurmoha/anaconda3/lib/python3.7/site-packages/tensorboard/compat/tensorflow_stub/dtypes.py:541: FutureWarning: Passing (type, 1) or '1type' as a synonym of type is deprecated; in a future version of numpy, it will be understood as (type, (1,)) / '(1,)type'.\n",
      "  _np_qint8 = np.dtype([(\"qint8\", np.int8, 1)])\n",
      "/Users/saurmoha/anaconda3/lib/python3.7/site-packages/tensorboard/compat/tensorflow_stub/dtypes.py:542: FutureWarning: Passing (type, 1) or '1type' as a synonym of type is deprecated; in a future version of numpy, it will be understood as (type, (1,)) / '(1,)type'.\n",
      "  _np_quint8 = np.dtype([(\"quint8\", np.uint8, 1)])\n",
      "/Users/saurmoha/anaconda3/lib/python3.7/site-packages/tensorboard/compat/tensorflow_stub/dtypes.py:543: FutureWarning: Passing (type, 1) or '1type' as a synonym of type is deprecated; in a future version of numpy, it will be understood as (type, (1,)) / '(1,)type'.\n",
      "  _np_qint16 = np.dtype([(\"qint16\", np.int16, 1)])\n",
      "/Users/saurmoha/anaconda3/lib/python3.7/site-packages/tensorboard/compat/tensorflow_stub/dtypes.py:544: FutureWarning: Passing (type, 1) or '1type' as a synonym of type is deprecated; in a future version of numpy, it will be understood as (type, (1,)) / '(1,)type'.\n",
      "  _np_quint16 = np.dtype([(\"quint16\", np.uint16, 1)])\n",
      "/Users/saurmoha/anaconda3/lib/python3.7/site-packages/tensorboard/compat/tensorflow_stub/dtypes.py:545: FutureWarning: Passing (type, 1) or '1type' as a synonym of type is deprecated; in a future version of numpy, it will be understood as (type, (1,)) / '(1,)type'.\n",
      "  _np_qint32 = np.dtype([(\"qint32\", np.int32, 1)])\n",
      "/Users/saurmoha/anaconda3/lib/python3.7/site-packages/tensorboard/compat/tensorflow_stub/dtypes.py:550: FutureWarning: Passing (type, 1) or '1type' as a synonym of type is deprecated; in a future version of numpy, it will be understood as (type, (1,)) / '(1,)type'.\n",
      "  np_resource = np.dtype([(\"resource\", np.ubyte, 1)])\n"
     ]
    }
   ],
   "source": [
    "import tensorflow as tf"
   ]
  },
  {
   "cell_type": "code",
   "execution_count": 2,
   "metadata": {
    "colab": {
     "base_uri": "https://localhost:8080/",
     "height": 34
    },
    "colab_type": "code",
    "executionInfo": {
     "elapsed": 971,
     "status": "ok",
     "timestamp": 1574911086677,
     "user": {
      "displayName": "Vijay Gadhave",
      "photoUrl": "https://lh3.googleusercontent.com/a-/AAuE7mCiskVUXETaua8br1GrYe6A5iN3sI80G5Xl2S7LGg=s64",
      "userId": "02099433176152859365"
     },
     "user_tz": -330
    },
    "id": "i_T3tBpbFxRt",
    "outputId": "e2a7e4af-7bad-4d29-adb0-c01495e5e844"
   },
   "outputs": [
    {
     "name": "stdout",
     "output_type": "stream",
     "text": [
      "2.0.0-beta0\n"
     ]
    }
   ],
   "source": [
    "print(tf.__version__)"
   ]
  },
  {
   "cell_type": "code",
   "execution_count": 3,
   "metadata": {
    "colab": {},
    "colab_type": "code",
    "id": "WOik7ELbF15N"
   },
   "outputs": [],
   "source": [
    "import numpy as np\n",
    "import pandas as pd\n",
    "import matplotlib.pyplot as plt"
   ]
  },
  {
   "cell_type": "code",
   "execution_count": 4,
   "metadata": {
    "colab": {},
    "colab_type": "code",
    "id": "WJ9gvp_4KTS7"
   },
   "outputs": [],
   "source": [
    "dataset_1  = pd.read_csv('/Users/saurmoha/Downloads/creditcard.csv')"
   ]
  },
  {
   "cell_type": "code",
   "execution_count": 5,
   "metadata": {
    "colab": {
     "base_uri": "https://localhost:8080/",
     "height": 219
    },
    "colab_type": "code",
    "executionInfo": {
     "elapsed": 963,
     "status": "ok",
     "timestamp": 1574911135590,
     "user": {
      "displayName": "Vijay Gadhave",
      "photoUrl": "https://lh3.googleusercontent.com/a-/AAuE7mCiskVUXETaua8br1GrYe6A5iN3sI80G5Xl2S7LGg=s64",
      "userId": "02099433176152859365"
     },
     "user_tz": -330
    },
    "id": "Yq7ZHXbpKe3l",
    "outputId": "578788ff-a678-4475-ad00-b70bb02fb55d"
   },
   "outputs": [
    {
     "data": {
      "text/html": [
       "<div>\n",
       "<style scoped>\n",
       "    .dataframe tbody tr th:only-of-type {\n",
       "        vertical-align: middle;\n",
       "    }\n",
       "\n",
       "    .dataframe tbody tr th {\n",
       "        vertical-align: top;\n",
       "    }\n",
       "\n",
       "    .dataframe thead th {\n",
       "        text-align: right;\n",
       "    }\n",
       "</style>\n",
       "<table border=\"1\" class=\"dataframe\">\n",
       "  <thead>\n",
       "    <tr style=\"text-align: right;\">\n",
       "      <th></th>\n",
       "      <th>Time</th>\n",
       "      <th>V1</th>\n",
       "      <th>V2</th>\n",
       "      <th>V3</th>\n",
       "      <th>V4</th>\n",
       "      <th>V5</th>\n",
       "      <th>V6</th>\n",
       "      <th>V7</th>\n",
       "      <th>V8</th>\n",
       "      <th>V9</th>\n",
       "      <th>...</th>\n",
       "      <th>V21</th>\n",
       "      <th>V22</th>\n",
       "      <th>V23</th>\n",
       "      <th>V24</th>\n",
       "      <th>V25</th>\n",
       "      <th>V26</th>\n",
       "      <th>V27</th>\n",
       "      <th>V28</th>\n",
       "      <th>Amount</th>\n",
       "      <th>Class</th>\n",
       "    </tr>\n",
       "  </thead>\n",
       "  <tbody>\n",
       "    <tr>\n",
       "      <th>0</th>\n",
       "      <td>0.0</td>\n",
       "      <td>-1.359807</td>\n",
       "      <td>-0.072781</td>\n",
       "      <td>2.536347</td>\n",
       "      <td>1.378155</td>\n",
       "      <td>-0.338321</td>\n",
       "      <td>0.462388</td>\n",
       "      <td>0.239599</td>\n",
       "      <td>0.098698</td>\n",
       "      <td>0.363787</td>\n",
       "      <td>...</td>\n",
       "      <td>-0.018307</td>\n",
       "      <td>0.277838</td>\n",
       "      <td>-0.110474</td>\n",
       "      <td>0.066928</td>\n",
       "      <td>0.128539</td>\n",
       "      <td>-0.189115</td>\n",
       "      <td>0.133558</td>\n",
       "      <td>-0.021053</td>\n",
       "      <td>149.62</td>\n",
       "      <td>0</td>\n",
       "    </tr>\n",
       "    <tr>\n",
       "      <th>1</th>\n",
       "      <td>0.0</td>\n",
       "      <td>1.191857</td>\n",
       "      <td>0.266151</td>\n",
       "      <td>0.166480</td>\n",
       "      <td>0.448154</td>\n",
       "      <td>0.060018</td>\n",
       "      <td>-0.082361</td>\n",
       "      <td>-0.078803</td>\n",
       "      <td>0.085102</td>\n",
       "      <td>-0.255425</td>\n",
       "      <td>...</td>\n",
       "      <td>-0.225775</td>\n",
       "      <td>-0.638672</td>\n",
       "      <td>0.101288</td>\n",
       "      <td>-0.339846</td>\n",
       "      <td>0.167170</td>\n",
       "      <td>0.125895</td>\n",
       "      <td>-0.008983</td>\n",
       "      <td>0.014724</td>\n",
       "      <td>2.69</td>\n",
       "      <td>0</td>\n",
       "    </tr>\n",
       "    <tr>\n",
       "      <th>2</th>\n",
       "      <td>1.0</td>\n",
       "      <td>-1.358354</td>\n",
       "      <td>-1.340163</td>\n",
       "      <td>1.773209</td>\n",
       "      <td>0.379780</td>\n",
       "      <td>-0.503198</td>\n",
       "      <td>1.800499</td>\n",
       "      <td>0.791461</td>\n",
       "      <td>0.247676</td>\n",
       "      <td>-1.514654</td>\n",
       "      <td>...</td>\n",
       "      <td>0.247998</td>\n",
       "      <td>0.771679</td>\n",
       "      <td>0.909412</td>\n",
       "      <td>-0.689281</td>\n",
       "      <td>-0.327642</td>\n",
       "      <td>-0.139097</td>\n",
       "      <td>-0.055353</td>\n",
       "      <td>-0.059752</td>\n",
       "      <td>378.66</td>\n",
       "      <td>0</td>\n",
       "    </tr>\n",
       "    <tr>\n",
       "      <th>3</th>\n",
       "      <td>1.0</td>\n",
       "      <td>-0.966272</td>\n",
       "      <td>-0.185226</td>\n",
       "      <td>1.792993</td>\n",
       "      <td>-0.863291</td>\n",
       "      <td>-0.010309</td>\n",
       "      <td>1.247203</td>\n",
       "      <td>0.237609</td>\n",
       "      <td>0.377436</td>\n",
       "      <td>-1.387024</td>\n",
       "      <td>...</td>\n",
       "      <td>-0.108300</td>\n",
       "      <td>0.005274</td>\n",
       "      <td>-0.190321</td>\n",
       "      <td>-1.175575</td>\n",
       "      <td>0.647376</td>\n",
       "      <td>-0.221929</td>\n",
       "      <td>0.062723</td>\n",
       "      <td>0.061458</td>\n",
       "      <td>123.50</td>\n",
       "      <td>0</td>\n",
       "    </tr>\n",
       "    <tr>\n",
       "      <th>4</th>\n",
       "      <td>2.0</td>\n",
       "      <td>-1.158233</td>\n",
       "      <td>0.877737</td>\n",
       "      <td>1.548718</td>\n",
       "      <td>0.403034</td>\n",
       "      <td>-0.407193</td>\n",
       "      <td>0.095921</td>\n",
       "      <td>0.592941</td>\n",
       "      <td>-0.270533</td>\n",
       "      <td>0.817739</td>\n",
       "      <td>...</td>\n",
       "      <td>-0.009431</td>\n",
       "      <td>0.798278</td>\n",
       "      <td>-0.137458</td>\n",
       "      <td>0.141267</td>\n",
       "      <td>-0.206010</td>\n",
       "      <td>0.502292</td>\n",
       "      <td>0.219422</td>\n",
       "      <td>0.215153</td>\n",
       "      <td>69.99</td>\n",
       "      <td>0</td>\n",
       "    </tr>\n",
       "  </tbody>\n",
       "</table>\n",
       "<p>5 rows × 31 columns</p>\n",
       "</div>"
      ],
      "text/plain": [
       "   Time        V1        V2        V3        V4        V5        V6        V7  \\\n",
       "0   0.0 -1.359807 -0.072781  2.536347  1.378155 -0.338321  0.462388  0.239599   \n",
       "1   0.0  1.191857  0.266151  0.166480  0.448154  0.060018 -0.082361 -0.078803   \n",
       "2   1.0 -1.358354 -1.340163  1.773209  0.379780 -0.503198  1.800499  0.791461   \n",
       "3   1.0 -0.966272 -0.185226  1.792993 -0.863291 -0.010309  1.247203  0.237609   \n",
       "4   2.0 -1.158233  0.877737  1.548718  0.403034 -0.407193  0.095921  0.592941   \n",
       "\n",
       "         V8        V9  ...       V21       V22       V23       V24       V25  \\\n",
       "0  0.098698  0.363787  ... -0.018307  0.277838 -0.110474  0.066928  0.128539   \n",
       "1  0.085102 -0.255425  ... -0.225775 -0.638672  0.101288 -0.339846  0.167170   \n",
       "2  0.247676 -1.514654  ...  0.247998  0.771679  0.909412 -0.689281 -0.327642   \n",
       "3  0.377436 -1.387024  ... -0.108300  0.005274 -0.190321 -1.175575  0.647376   \n",
       "4 -0.270533  0.817739  ... -0.009431  0.798278 -0.137458  0.141267 -0.206010   \n",
       "\n",
       "        V26       V27       V28  Amount  Class  \n",
       "0 -0.189115  0.133558 -0.021053  149.62      0  \n",
       "1  0.125895 -0.008983  0.014724    2.69      0  \n",
       "2 -0.139097 -0.055353 -0.059752  378.66      0  \n",
       "3 -0.221929  0.062723  0.061458  123.50      0  \n",
       "4  0.502292  0.219422  0.215153   69.99      0  \n",
       "\n",
       "[5 rows x 31 columns]"
      ]
     },
     "execution_count": 5,
     "metadata": {},
     "output_type": "execute_result"
    }
   ],
   "source": [
    "dataset_1.head()"
   ]
  },
  {
   "cell_type": "markdown",
   "metadata": {
    "colab_type": "text",
    "id": "IQDeNqgwNAnV"
   },
   "source": [
    "# Step 3: Data Preprocessing"
   ]
  },
  {
   "cell_type": "code",
   "execution_count": 6,
   "metadata": {
    "colab": {
     "base_uri": "https://localhost:8080/",
     "height": 34
    },
    "colab_type": "code",
    "executionInfo": {
     "elapsed": 940,
     "status": "ok",
     "timestamp": 1574911139025,
     "user": {
      "displayName": "Vijay Gadhave",
      "photoUrl": "https://lh3.googleusercontent.com/a-/AAuE7mCiskVUXETaua8br1GrYe6A5iN3sI80G5Xl2S7LGg=s64",
      "userId": "02099433176152859365"
     },
     "user_tz": -330
    },
    "id": "aW1LFPe7UE2B",
    "outputId": "508599f3-f1d7-4338-fb5e-86928a48f687"
   },
   "outputs": [
    {
     "data": {
      "text/plain": [
       "(284807, 31)"
      ]
     },
     "execution_count": 6,
     "metadata": {},
     "output_type": "execute_result"
    }
   ],
   "source": [
    "dataset_1.shape"
   ]
  },
  {
   "cell_type": "code",
   "execution_count": 7,
   "metadata": {
    "colab": {
     "base_uri": "https://localhost:8080/",
     "height": 579
    },
    "colab_type": "code",
    "executionInfo": {
     "elapsed": 984,
     "status": "ok",
     "timestamp": 1574911141276,
     "user": {
      "displayName": "Vijay Gadhave",
      "photoUrl": "https://lh3.googleusercontent.com/a-/AAuE7mCiskVUXETaua8br1GrYe6A5iN3sI80G5Xl2S7LGg=s64",
      "userId": "02099433176152859365"
     },
     "user_tz": -330
    },
    "id": "RSpv_uFoUlSw",
    "outputId": "c6748bdf-9385-448f-c1d4-96164a56904c"
   },
   "outputs": [
    {
     "data": {
      "text/plain": [
       "Time      0\n",
       "V1        0\n",
       "V2        0\n",
       "V3        0\n",
       "V4        0\n",
       "V5        0\n",
       "V6        0\n",
       "V7        0\n",
       "V8        0\n",
       "V9        0\n",
       "V10       0\n",
       "V11       0\n",
       "V12       0\n",
       "V13       0\n",
       "V14       0\n",
       "V15       0\n",
       "V16       0\n",
       "V17       0\n",
       "V18       0\n",
       "V19       0\n",
       "V20       0\n",
       "V21       0\n",
       "V22       0\n",
       "V23       0\n",
       "V24       0\n",
       "V25       0\n",
       "V26       0\n",
       "V27       0\n",
       "V28       0\n",
       "Amount    0\n",
       "Class     0\n",
       "dtype: int64"
      ]
     },
     "execution_count": 7,
     "metadata": {},
     "output_type": "execute_result"
    }
   ],
   "source": [
    "# checking the null values\n",
    "dataset_1.isnull().sum()"
   ]
  },
  {
   "cell_type": "code",
   "execution_count": 8,
   "metadata": {
    "colab": {
     "base_uri": "https://localhost:8080/",
     "height": 650
    },
    "colab_type": "code",
    "executionInfo": {
     "elapsed": 984,
     "status": "ok",
     "timestamp": 1574911145425,
     "user": {
      "displayName": "Vijay Gadhave",
      "photoUrl": "https://lh3.googleusercontent.com/a-/AAuE7mCiskVUXETaua8br1GrYe6A5iN3sI80G5Xl2S7LGg=s64",
      "userId": "02099433176152859365"
     },
     "user_tz": -330
    },
    "id": "zOG5GVJtU3XI",
    "outputId": "b179d5ae-793d-4f74-ab3d-fc6f472573ae"
   },
   "outputs": [
    {
     "name": "stdout",
     "output_type": "stream",
     "text": [
      "<class 'pandas.core.frame.DataFrame'>\n",
      "RangeIndex: 284807 entries, 0 to 284806\n",
      "Data columns (total 31 columns):\n",
      " #   Column  Non-Null Count   Dtype  \n",
      "---  ------  --------------   -----  \n",
      " 0   Time    284807 non-null  float64\n",
      " 1   V1      284807 non-null  float64\n",
      " 2   V2      284807 non-null  float64\n",
      " 3   V3      284807 non-null  float64\n",
      " 4   V4      284807 non-null  float64\n",
      " 5   V5      284807 non-null  float64\n",
      " 6   V6      284807 non-null  float64\n",
      " 7   V7      284807 non-null  float64\n",
      " 8   V8      284807 non-null  float64\n",
      " 9   V9      284807 non-null  float64\n",
      " 10  V10     284807 non-null  float64\n",
      " 11  V11     284807 non-null  float64\n",
      " 12  V12     284807 non-null  float64\n",
      " 13  V13     284807 non-null  float64\n",
      " 14  V14     284807 non-null  float64\n",
      " 15  V15     284807 non-null  float64\n",
      " 16  V16     284807 non-null  float64\n",
      " 17  V17     284807 non-null  float64\n",
      " 18  V18     284807 non-null  float64\n",
      " 19  V19     284807 non-null  float64\n",
      " 20  V20     284807 non-null  float64\n",
      " 21  V21     284807 non-null  float64\n",
      " 22  V22     284807 non-null  float64\n",
      " 23  V23     284807 non-null  float64\n",
      " 24  V24     284807 non-null  float64\n",
      " 25  V25     284807 non-null  float64\n",
      " 26  V26     284807 non-null  float64\n",
      " 27  V27     284807 non-null  float64\n",
      " 28  V28     284807 non-null  float64\n",
      " 29  Amount  284807 non-null  float64\n",
      " 30  Class   284807 non-null  int64  \n",
      "dtypes: float64(30), int64(1)\n",
      "memory usage: 67.4 MB\n"
     ]
    }
   ],
   "source": [
    "dataset_1.info()"
   ]
  },
  {
   "cell_type": "code",
   "execution_count": 9,
   "metadata": {
    "colab": {
     "base_uri": "https://localhost:8080/",
     "height": 70
    },
    "colab_type": "code",
    "executionInfo": {
     "elapsed": 1010,
     "status": "ok",
     "timestamp": 1574911151934,
     "user": {
      "displayName": "Vijay Gadhave",
      "photoUrl": "https://lh3.googleusercontent.com/a-/AAuE7mCiskVUXETaua8br1GrYe6A5iN3sI80G5Xl2S7LGg=s64",
      "userId": "02099433176152859365"
     },
     "user_tz": -330
    },
    "id": "FJV-pZuMVIrQ",
    "outputId": "9d042a18-6a84-4ae4-a4ad-db9d4fa3442b"
   },
   "outputs": [
    {
     "data": {
      "text/plain": [
       "0    284315\n",
       "1       492\n",
       "Name: Class, dtype: int64"
      ]
     },
     "execution_count": 9,
     "metadata": {},
     "output_type": "execute_result"
    }
   ],
   "source": [
    "# observations in each class\n",
    "dataset_1['Class'].value_counts()"
   ]
  },
  {
   "cell_type": "code",
   "execution_count": 10,
   "metadata": {
    "colab": {},
    "colab_type": "code",
    "id": "0uC_yEj7VrXw"
   },
   "outputs": [],
   "source": [
    "# balence the dataset\n",
    "fraud = dataset_1[dataset_1['Class']==1]\n",
    "non_fraud = dataset_1[dataset_1['Class']==0]"
   ]
  },
  {
   "cell_type": "code",
   "execution_count": 11,
   "metadata": {
    "colab": {
     "base_uri": "https://localhost:8080/",
     "height": 34
    },
    "colab_type": "code",
    "executionInfo": {
     "elapsed": 984,
     "status": "ok",
     "timestamp": 1574911158517,
     "user": {
      "displayName": "Vijay Gadhave",
      "photoUrl": "https://lh3.googleusercontent.com/a-/AAuE7mCiskVUXETaua8br1GrYe6A5iN3sI80G5Xl2S7LGg=s64",
      "userId": "02099433176152859365"
     },
     "user_tz": -330
    },
    "id": "0wk_5v09WCoA",
    "outputId": "0971bc0c-f56f-4b2b-9836-ffb6c62f6020"
   },
   "outputs": [
    {
     "data": {
      "text/plain": [
       "((492, 31), (284315, 31))"
      ]
     },
     "execution_count": 11,
     "metadata": {},
     "output_type": "execute_result"
    }
   ],
   "source": [
    "fraud.shape, non_fraud.shape"
   ]
  },
  {
   "cell_type": "code",
   "execution_count": 12,
   "metadata": {
    "colab": {},
    "colab_type": "code",
    "id": "By8-vwUDW0zJ"
   },
   "outputs": [],
   "source": [
    "# random selection of samples\n",
    "non_fraud_t = non_fraud.sample(n=492)"
   ]
  },
  {
   "cell_type": "code",
   "execution_count": 13,
   "metadata": {
    "colab": {
     "base_uri": "https://localhost:8080/",
     "height": 34
    },
    "colab_type": "code",
    "executionInfo": {
     "elapsed": 963,
     "status": "ok",
     "timestamp": 1574911162956,
     "user": {
      "displayName": "Vijay Gadhave",
      "photoUrl": "https://lh3.googleusercontent.com/a-/AAuE7mCiskVUXETaua8br1GrYe6A5iN3sI80G5Xl2S7LGg=s64",
      "userId": "02099433176152859365"
     },
     "user_tz": -330
    },
    "id": "GqJAnDXfXnlP",
    "outputId": "135878d2-7b75-459d-bb81-626f7c03a443"
   },
   "outputs": [
    {
     "data": {
      "text/plain": [
       "(492, 31)"
      ]
     },
     "execution_count": 13,
     "metadata": {},
     "output_type": "execute_result"
    }
   ],
   "source": [
    "non_fraud_t.shape"
   ]
  },
  {
   "cell_type": "code",
   "execution_count": 14,
   "metadata": {
    "colab": {},
    "colab_type": "code",
    "id": "4SxY4fMOX0so"
   },
   "outputs": [],
   "source": [
    "# merge dataset\n",
    "dataset = fraud.append(non_fraud_t, ignore_index=True)"
   ]
  },
  {
   "cell_type": "code",
   "execution_count": 15,
   "metadata": {
    "colab": {
     "base_uri": "https://localhost:8080/",
     "height": 263
    },
    "colab_type": "code",
    "executionInfo": {
     "elapsed": 754,
     "status": "ok",
     "timestamp": 1574911165841,
     "user": {
      "displayName": "Vijay Gadhave",
      "photoUrl": "https://lh3.googleusercontent.com/a-/AAuE7mCiskVUXETaua8br1GrYe6A5iN3sI80G5Xl2S7LGg=s64",
      "userId": "02099433176152859365"
     },
     "user_tz": -330
    },
    "id": "Qamgjq-sYK8Z",
    "outputId": "a6546572-073c-4184-8088-57d67d036df4"
   },
   "outputs": [
    {
     "name": "stdout",
     "output_type": "stream",
     "text": [
      "         Time        V1        V2        V3        V4        V5        V6  \\\n",
      "0       406.0 -2.312227  1.951992 -1.609851  3.997906 -0.522188 -1.426545   \n",
      "1       472.0 -3.043541 -3.157307  1.088463  2.288644  1.359805 -1.064823   \n",
      "2      4462.0 -2.303350  1.759247 -0.359745  2.330243 -0.821628 -0.075788   \n",
      "3      6986.0 -4.397974  1.358367 -2.592844  2.679787 -1.128131 -1.706536   \n",
      "4      7519.0  1.234235  3.019740 -4.304597  4.732795  3.624201 -1.357746   \n",
      "..        ...       ...       ...       ...       ...       ...       ...   \n",
      "979  170440.0 -0.303232 -0.309528 -1.066922 -0.321550 -0.320433  1.122327   \n",
      "980   71322.0 -2.703230  2.633833 -0.551190 -0.680426 -0.002812  0.453238   \n",
      "981   43671.0 -0.429543  0.980147  1.270075 -0.096714  0.209857 -0.201398   \n",
      "982    2441.0 -0.323590  0.651749  0.879654 -2.144695  0.356149 -1.235161   \n",
      "983   77167.0  1.251399  0.379576  0.312806  0.691200 -0.332972 -1.061326   \n",
      "\n",
      "           V7        V8        V9  ...       V21       V22       V23  \\\n",
      "0   -2.537387  1.391657 -2.770089  ...  0.517232 -0.035049 -0.465211   \n",
      "1    0.325574 -0.067794 -0.270953  ...  0.661696  0.435477  1.375966   \n",
      "2    0.562320 -0.399147 -0.238253  ... -0.294166 -0.932391  0.172726   \n",
      "3   -3.496197 -0.248778 -0.247768  ...  0.573574  0.176968 -0.436207   \n",
      "4    1.713445 -0.496358 -1.282858  ... -0.379068 -0.704181 -0.656805   \n",
      "..        ...       ...       ...  ...       ...       ...       ...   \n",
      "979  1.040656  0.473072  0.437482  ...  0.566716  1.407704  0.489890   \n",
      "980 -0.340008  0.163982  0.535866  ...  0.354796 -1.071946  0.134211   \n",
      "981  0.489817  0.250728 -0.556053  ... -0.191687 -0.518498  0.012993   \n",
      "982  1.118857 -0.374037  0.966948  ...  0.020142  0.409281 -0.349774   \n",
      "983  0.121960 -0.231016 -0.038354  ... -0.280600 -0.793172  0.121402   \n",
      "\n",
      "          V24       V25       V26       V27       V28  Amount  Class  \n",
      "0    0.320198  0.044519  0.177840  0.261145 -0.143276    0.00      1  \n",
      "1   -0.293803  0.279798 -0.145362 -0.252773  0.035764  529.00      1  \n",
      "2   -0.087330 -0.156114 -0.542628  0.039566 -0.153029  239.93      1  \n",
      "3   -0.053502  0.252405 -0.657488 -0.827136  0.849573   59.00      1  \n",
      "4   -1.632653  1.488901  0.566797 -0.010016  0.146793    1.00      1  \n",
      "..        ...       ...       ...       ...       ...     ...    ...  \n",
      "979 -0.079342  0.001162 -0.107084 -0.133797 -0.038062  311.66      0  \n",
      "980 -1.254848  0.235210  0.156529  0.377824  0.117644    8.91      0  \n",
      "981 -0.052100 -0.285652  0.086521  0.253436  0.083307    4.49      0  \n",
      "982 -0.126928  0.117506 -0.806335  0.233932 -0.020143    1.00      0  \n",
      "983  0.358260  0.230836  0.092554 -0.020539  0.032296    4.49      0  \n",
      "\n",
      "[984 rows x 31 columns]\n"
     ]
    }
   ],
   "source": [
    "print(dataset)"
   ]
  },
  {
   "cell_type": "code",
   "execution_count": 16,
   "metadata": {
    "colab": {
     "base_uri": "https://localhost:8080/",
     "height": 70
    },
    "colab_type": "code",
    "executionInfo": {
     "elapsed": 1144,
     "status": "ok",
     "timestamp": 1574911170767,
     "user": {
      "displayName": "Vijay Gadhave",
      "photoUrl": "https://lh3.googleusercontent.com/a-/AAuE7mCiskVUXETaua8br1GrYe6A5iN3sI80G5Xl2S7LGg=s64",
      "userId": "02099433176152859365"
     },
     "user_tz": -330
    },
    "id": "TFWkLGMQYSTX",
    "outputId": "fa26be99-6636-4a36-c535-c82596bfea2b"
   },
   "outputs": [
    {
     "data": {
      "text/plain": [
       "1    492\n",
       "0    492\n",
       "Name: Class, dtype: int64"
      ]
     },
     "execution_count": 16,
     "metadata": {},
     "output_type": "execute_result"
    }
   ],
   "source": [
    "# observations in each class\n",
    "dataset['Class'].value_counts()"
   ]
  },
  {
   "cell_type": "code",
   "execution_count": 17,
   "metadata": {
    "colab": {},
    "colab_type": "code",
    "id": "PqvciwCMZiv2"
   },
   "outputs": [],
   "source": [
    "# matrix of features\n",
    "x = dataset.drop(labels=['Class'], axis=1)"
   ]
  },
  {
   "cell_type": "code",
   "execution_count": 18,
   "metadata": {
    "colab": {},
    "colab_type": "code",
    "id": "rOXyCW0CZ2nv"
   },
   "outputs": [],
   "source": [
    "# dependent variable\n",
    "y = dataset['Class']"
   ]
  },
  {
   "cell_type": "code",
   "execution_count": 19,
   "metadata": {
    "colab": {
     "base_uri": "https://localhost:8080/",
     "height": 34
    },
    "colab_type": "code",
    "executionInfo": {
     "elapsed": 994,
     "status": "ok",
     "timestamp": 1574911177037,
     "user": {
      "displayName": "Vijay Gadhave",
      "photoUrl": "https://lh3.googleusercontent.com/a-/AAuE7mCiskVUXETaua8br1GrYe6A5iN3sI80G5Xl2S7LGg=s64",
      "userId": "02099433176152859365"
     },
     "user_tz": -330
    },
    "id": "8vb1jDFgZ-Lg",
    "outputId": "2ab3c708-007a-4394-ab19-56b0decaa322"
   },
   "outputs": [
    {
     "data": {
      "text/plain": [
       "((984, 30), (984,))"
      ]
     },
     "execution_count": 19,
     "metadata": {},
     "output_type": "execute_result"
    }
   ],
   "source": [
    "x.shape, y.shape"
   ]
  },
  {
   "cell_type": "code",
   "execution_count": 20,
   "metadata": {
    "colab": {},
    "colab_type": "code",
    "id": "PFXGfityaGA_"
   },
   "outputs": [],
   "source": [
    "# splitting the dataset into train and test set\n",
    "from sklearn.model_selection import train_test_split\n",
    "x_train, x_test, y_train, y_test = train_test_split(x, y, test_size = 0.2, random_state = 0)"
   ]
  },
  {
   "cell_type": "code",
   "execution_count": 21,
   "metadata": {
    "colab": {
     "base_uri": "https://localhost:8080/",
     "height": 34
    },
    "colab_type": "code",
    "executionInfo": {
     "elapsed": 952,
     "status": "ok",
     "timestamp": 1574911182999,
     "user": {
      "displayName": "Vijay Gadhave",
      "photoUrl": "https://lh3.googleusercontent.com/a-/AAuE7mCiskVUXETaua8br1GrYe6A5iN3sI80G5Xl2S7LGg=s64",
      "userId": "02099433176152859365"
     },
     "user_tz": -330
    },
    "id": "pT1to9WJaj1H",
    "outputId": "bb4a6f0b-24ec-473d-cdde-8908fcac205e"
   },
   "outputs": [
    {
     "data": {
      "text/plain": [
       "((787, 30), (197, 30))"
      ]
     },
     "execution_count": 21,
     "metadata": {},
     "output_type": "execute_result"
    }
   ],
   "source": [
    "x_train.shape, x_test.shape"
   ]
  },
  {
   "cell_type": "code",
   "execution_count": 22,
   "metadata": {
    "colab": {},
    "colab_type": "code",
    "id": "PXE87OUZaqnw"
   },
   "outputs": [],
   "source": [
    "# feature scaling\n",
    "from sklearn.preprocessing import StandardScaler\n",
    "sc = StandardScaler()\n",
    "x_train = sc.fit_transform(x_train)\n",
    "x_test = sc.transform(x_test)"
   ]
  },
  {
   "cell_type": "code",
   "execution_count": 23,
   "metadata": {
    "colab": {
     "base_uri": "https://localhost:8080/",
     "height": 245
    },
    "colab_type": "code",
    "executionInfo": {
     "elapsed": 991,
     "status": "ok",
     "timestamp": 1574911187802,
     "user": {
      "displayName": "Vijay Gadhave",
      "photoUrl": "https://lh3.googleusercontent.com/a-/AAuE7mCiskVUXETaua8br1GrYe6A5iN3sI80G5Xl2S7LGg=s64",
      "userId": "02099433176152859365"
     },
     "user_tz": -330
    },
    "id": "1_q7CL8tbiK2",
    "outputId": "4ba47976-5dbf-48bd-b07f-217d4a2b4082"
   },
   "outputs": [
    {
     "data": {
      "text/plain": [
       "array([[-0.61486798,  0.1480228 , -0.36313055, ..., -0.28365779,\n",
       "        -1.15658671, -0.38375598],\n",
       "       [-0.80342189,  0.49822073, -0.09072742, ...,  0.48224654,\n",
       "         0.57748   , -0.45503876],\n",
       "       [-0.83960303,  0.17938568,  0.10430515, ...,  0.32041295,\n",
       "         0.43011995, -0.45404585],\n",
       "       ...,\n",
       "       [-1.09380918,  0.28763218, -0.30161082, ..., -0.07937922,\n",
       "         0.1084433 , -0.42132114],\n",
       "       [-0.33206771,  0.31146058, -0.1656064 , ...,  0.26523474,\n",
       "         0.23251615, -0.45532836],\n",
       "       [ 0.01312157,  0.17396007, -0.10425061, ...,  0.21807216,\n",
       "         0.38866331, -0.45404585]])"
      ]
     },
     "execution_count": 23,
     "metadata": {},
     "output_type": "execute_result"
    }
   ],
   "source": [
    "x_train"
   ]
  },
  {
   "cell_type": "code",
   "execution_count": 24,
   "metadata": {
    "colab": {},
    "colab_type": "code",
    "id": "PeHW3pHRbn3X"
   },
   "outputs": [],
   "source": [
    "y_train = y_train.to_numpy()\n",
    "y_test = y_test.to_numpy()"
   ]
  },
  {
   "cell_type": "code",
   "execution_count": 25,
   "metadata": {
    "colab": {
     "base_uri": "https://localhost:8080/",
     "height": 34
    },
    "colab_type": "code",
    "executionInfo": {
     "elapsed": 965,
     "status": "ok",
     "timestamp": 1574911192864,
     "user": {
      "displayName": "Vijay Gadhave",
      "photoUrl": "https://lh3.googleusercontent.com/a-/AAuE7mCiskVUXETaua8br1GrYe6A5iN3sI80G5Xl2S7LGg=s64",
      "userId": "02099433176152859365"
     },
     "user_tz": -330
    },
    "id": "FnslyMpxb0wL",
    "outputId": "a42aeb77-c33a-4df6-ca23-6733b604af67"
   },
   "outputs": [
    {
     "data": {
      "text/plain": [
       "((787, 30), (197, 30))"
      ]
     },
     "execution_count": 25,
     "metadata": {},
     "output_type": "execute_result"
    }
   ],
   "source": [
    "x_train.shape, x_test.shape"
   ]
  },
  {
   "cell_type": "code",
   "execution_count": 26,
   "metadata": {
    "colab": {},
    "colab_type": "code",
    "id": "mHinMVlycFGh"
   },
   "outputs": [],
   "source": [
    "# reshape the dataset\n",
    "x_train = x_train.reshape(787, 30, 1)\n",
    "x_test = x_test.reshape(197, 30, 1)"
   ]
  },
  {
   "cell_type": "code",
   "execution_count": 27,
   "metadata": {
    "colab": {
     "base_uri": "https://localhost:8080/",
     "height": 34
    },
    "colab_type": "code",
    "executionInfo": {
     "elapsed": 944,
     "status": "ok",
     "timestamp": 1574911196960,
     "user": {
      "displayName": "Vijay Gadhave",
      "photoUrl": "https://lh3.googleusercontent.com/a-/AAuE7mCiskVUXETaua8br1GrYe6A5iN3sI80G5Xl2S7LGg=s64",
      "userId": "02099433176152859365"
     },
     "user_tz": -330
    },
    "id": "NTWpqK2OcSrx",
    "outputId": "74ae5519-4cbb-445a-a777-48db08e76772"
   },
   "outputs": [
    {
     "data": {
      "text/plain": [
       "((787, 30, 1), (197, 30, 1))"
      ]
     },
     "execution_count": 27,
     "metadata": {},
     "output_type": "execute_result"
    }
   ],
   "source": [
    "x_train.shape, x_test.shape"
   ]
  },
  {
   "cell_type": "markdown",
   "metadata": {
    "colab_type": "text",
    "id": "qBHgHLItdtRX"
   },
   "source": [
    "# Step 4: Building the model"
   ]
  },
  {
   "cell_type": "code",
   "execution_count": 28,
   "metadata": {
    "colab": {},
    "colab_type": "code",
    "id": "dH--Ig4SAoe4"
   },
   "outputs": [],
   "source": [
    "# defining an object\n",
    "model = tf.keras.models.Sequential()"
   ]
  },
  {
   "cell_type": "code",
   "execution_count": 29,
   "metadata": {
    "colab": {},
    "colab_type": "code",
    "id": "q_1SoZBPB2Zy"
   },
   "outputs": [],
   "source": [
    "# first CNN layer\n",
    "model.add(tf.keras.layers.Conv1D(filters=32, kernel_size=2, padding='same', activation='relu', input_shape = (30, 1)))\n",
    "\n",
    "# batch normalization\n",
    "model.add(tf.keras.layers.BatchNormalization())\n",
    "\n",
    "# maxpool layer\n",
    "model.add(tf.keras.layers.MaxPool1D(pool_size=2))\n",
    "\n",
    "# dropout layer\n",
    "model.add(tf.keras.layers.Dropout(0.2))"
   ]
  },
  {
   "cell_type": "code",
   "execution_count": 30,
   "metadata": {
    "colab": {},
    "colab_type": "code",
    "id": "aNFYuWrNDtLN"
   },
   "outputs": [],
   "source": [
    "# second CNN layer\n",
    "model.add(tf.keras.layers.Conv1D(filters=64, kernel_size=2, padding='same', activation='relu'))\n",
    "\n",
    "# batch normalization\n",
    "model.add(tf.keras.layers.BatchNormalization())\n",
    "\n",
    "# maxpool layer\n",
    "model.add(tf.keras.layers.MaxPool1D(pool_size=2))\n",
    "\n",
    "# dropout layer\n",
    "model.add(tf.keras.layers.Dropout(0.3))"
   ]
  },
  {
   "cell_type": "code",
   "execution_count": 31,
   "metadata": {
    "colab": {},
    "colab_type": "code",
    "id": "JPW1b4AbD77u"
   },
   "outputs": [],
   "source": [
    "# flatten layer\n",
    "model.add(tf.keras.layers.Flatten())"
   ]
  },
  {
   "cell_type": "code",
   "execution_count": 32,
   "metadata": {
    "colab": {},
    "colab_type": "code",
    "id": "tOV0WJ7nEEtq"
   },
   "outputs": [],
   "source": [
    "# first dense layer\n",
    "model.add(tf.keras.layers.Dense(units=64, activation='relu'))\n",
    "\n",
    "# dropout layer\n",
    "model.add(tf.keras.layers.Dropout(0.3))"
   ]
  },
  {
   "cell_type": "code",
   "execution_count": 33,
   "metadata": {
    "colab": {},
    "colab_type": "code",
    "id": "ybB4TooFE0NO"
   },
   "outputs": [],
   "source": [
    "# output layer\n",
    "model.add(tf.keras.layers.Dense(units=1, activation='sigmoid'))"
   ]
  },
  {
   "cell_type": "code",
   "execution_count": 34,
   "metadata": {
    "colab": {
     "base_uri": "https://localhost:8080/",
     "height": 579
    },
    "colab_type": "code",
    "executionInfo": {
     "elapsed": 1220,
     "status": "ok",
     "timestamp": 1574912464714,
     "user": {
      "displayName": "Vijay Gadhave",
      "photoUrl": "https://lh3.googleusercontent.com/a-/AAuE7mCiskVUXETaua8br1GrYe6A5iN3sI80G5Xl2S7LGg=s64",
      "userId": "02099433176152859365"
     },
     "user_tz": -330
    },
    "id": "h2ejeHwtFQIB",
    "outputId": "1714d77e-c820-457f-bf5d-0da7abbdfbae"
   },
   "outputs": [
    {
     "name": "stdout",
     "output_type": "stream",
     "text": [
      "Model: \"sequential\"\n",
      "_________________________________________________________________\n",
      "Layer (type)                 Output Shape              Param #   \n",
      "=================================================================\n",
      "conv1d (Conv1D)              (None, 30, 32)            96        \n",
      "_________________________________________________________________\n",
      "batch_normalization (BatchNo (None, 30, 32)            128       \n",
      "_________________________________________________________________\n",
      "max_pooling1d (MaxPooling1D) (None, 15, 32)            0         \n",
      "_________________________________________________________________\n",
      "dropout (Dropout)            (None, 15, 32)            0         \n",
      "_________________________________________________________________\n",
      "conv1d_1 (Conv1D)            (None, 15, 64)            4160      \n",
      "_________________________________________________________________\n",
      "batch_normalization_1 (Batch (None, 15, 64)            256       \n",
      "_________________________________________________________________\n",
      "max_pooling1d_1 (MaxPooling1 (None, 7, 64)             0         \n",
      "_________________________________________________________________\n",
      "dropout_1 (Dropout)          (None, 7, 64)             0         \n",
      "_________________________________________________________________\n",
      "flatten (Flatten)            (None, 448)               0         \n",
      "_________________________________________________________________\n",
      "dense (Dense)                (None, 64)                28736     \n",
      "_________________________________________________________________\n",
      "dropout_2 (Dropout)          (None, 64)                0         \n",
      "_________________________________________________________________\n",
      "dense_1 (Dense)              (None, 1)                 65        \n",
      "=================================================================\n",
      "Total params: 33,441\n",
      "Trainable params: 33,249\n",
      "Non-trainable params: 192\n",
      "_________________________________________________________________\n"
     ]
    }
   ],
   "source": [
    "model.summary()"
   ]
  },
  {
   "cell_type": "code",
   "execution_count": 35,
   "metadata": {
    "colab": {},
    "colab_type": "code",
    "id": "LJnWJfbdGi9n"
   },
   "outputs": [],
   "source": [
    "opt = tf.keras.optimizers.Adam(learning_rate=0.0001)"
   ]
  },
  {
   "cell_type": "code",
   "execution_count": 36,
   "metadata": {
    "colab": {},
    "colab_type": "code",
    "id": "vB1MxNAMG8xf"
   },
   "outputs": [],
   "source": [
    "model.compile(optimizer=opt, loss='binary_crossentropy', metrics=['accuracy'])"
   ]
  },
  {
   "cell_type": "markdown",
   "metadata": {
    "colab_type": "text",
    "id": "OPOhMsn5ICK3"
   },
   "source": [
    "# Step 5: Training the model"
   ]
  },
  {
   "cell_type": "code",
   "execution_count": 37,
   "metadata": {
    "colab": {
     "base_uri": "https://localhost:8080/",
     "height": 933
    },
    "colab_type": "code",
    "executionInfo": {
     "elapsed": 7898,
     "status": "ok",
     "timestamp": 1574913375548,
     "user": {
      "displayName": "Vijay Gadhave",
      "photoUrl": "https://lh3.googleusercontent.com/a-/AAuE7mCiskVUXETaua8br1GrYe6A5iN3sI80G5Xl2S7LGg=s64",
      "userId": "02099433176152859365"
     },
     "user_tz": -330
    },
    "id": "muzj1JHmIBDa",
    "outputId": "3a231229-c391-40fb-d611-dabbbcbf29ec"
   },
   "outputs": [
    {
     "name": "stdout",
     "output_type": "stream",
     "text": [
      "WARNING:tensorflow:From /Users/saurmoha/anaconda3/lib/python3.7/site-packages/tensorflow/python/ops/math_grad.py:1250: add_dispatch_support.<locals>.wrapper (from tensorflow.python.ops.array_ops) is deprecated and will be removed in a future version.\n",
      "Instructions for updating:\n",
      "Use tf.where in 2.0, which has the same broadcast rule as np.where\n",
      "Train on 787 samples, validate on 197 samples\n",
      "Epoch 1/25\n",
      "787/787 [==============================] - 1s 2ms/sample - loss: 0.7807 - accuracy: 0.6023 - val_loss: 0.6206 - val_accuracy: 0.7665\n",
      "Epoch 2/25\n",
      "787/787 [==============================] - 0s 140us/sample - loss: 0.5815 - accuracy: 0.7268 - val_loss: 0.5713 - val_accuracy: 0.7817\n",
      "Epoch 3/25\n",
      "787/787 [==============================] - 0s 166us/sample - loss: 0.4952 - accuracy: 0.7738 - val_loss: 0.5444 - val_accuracy: 0.7462\n",
      "Epoch 4/25\n",
      "787/787 [==============================] - 0s 177us/sample - loss: 0.4192 - accuracy: 0.8183 - val_loss: 0.5198 - val_accuracy: 0.7411\n",
      "Epoch 5/25\n",
      "787/787 [==============================] - 0s 160us/sample - loss: 0.3709 - accuracy: 0.8526 - val_loss: 0.4933 - val_accuracy: 0.7411\n",
      "Epoch 6/25\n",
      "787/787 [==============================] - 0s 192us/sample - loss: 0.3647 - accuracy: 0.8450 - val_loss: 0.4663 - val_accuracy: 0.7614\n",
      "Epoch 7/25\n",
      "787/787 [==============================] - 0s 146us/sample - loss: 0.3531 - accuracy: 0.8729 - val_loss: 0.4378 - val_accuracy: 0.7868\n",
      "Epoch 8/25\n",
      "787/787 [==============================] - 0s 158us/sample - loss: 0.3396 - accuracy: 0.8679 - val_loss: 0.4078 - val_accuracy: 0.8122\n",
      "Epoch 9/25\n",
      "787/787 [==============================] - 0s 147us/sample - loss: 0.3321 - accuracy: 0.8844 - val_loss: 0.3759 - val_accuracy: 0.8426\n",
      "Epoch 10/25\n",
      "787/787 [==============================] - 0s 159us/sample - loss: 0.3122 - accuracy: 0.8869 - val_loss: 0.3453 - val_accuracy: 0.8629\n",
      "Epoch 11/25\n",
      "787/787 [==============================] - 0s 225us/sample - loss: 0.2991 - accuracy: 0.8920 - val_loss: 0.3148 - val_accuracy: 0.8832\n",
      "Epoch 12/25\n",
      "787/787 [==============================] - 0s 230us/sample - loss: 0.2871 - accuracy: 0.8983 - val_loss: 0.2847 - val_accuracy: 0.9086\n",
      "Epoch 13/25\n",
      "787/787 [==============================] - 0s 215us/sample - loss: 0.2684 - accuracy: 0.8996 - val_loss: 0.2605 - val_accuracy: 0.9289\n",
      "Epoch 14/25\n",
      "787/787 [==============================] - 0s 194us/sample - loss: 0.2753 - accuracy: 0.8958 - val_loss: 0.2375 - val_accuracy: 0.9289\n",
      "Epoch 15/25\n",
      "787/787 [==============================] - 0s 179us/sample - loss: 0.2955 - accuracy: 0.8983 - val_loss: 0.2200 - val_accuracy: 0.9239\n",
      "Epoch 16/25\n",
      "787/787 [==============================] - 0s 187us/sample - loss: 0.2481 - accuracy: 0.8983 - val_loss: 0.2045 - val_accuracy: 0.9239\n",
      "Epoch 17/25\n",
      "787/787 [==============================] - 0s 156us/sample - loss: 0.2571 - accuracy: 0.9047 - val_loss: 0.1903 - val_accuracy: 0.9289\n",
      "Epoch 18/25\n",
      "787/787 [==============================] - 0s 157us/sample - loss: 0.2355 - accuracy: 0.9161 - val_loss: 0.1793 - val_accuracy: 0.9391\n",
      "Epoch 19/25\n",
      "787/787 [==============================] - 0s 153us/sample - loss: 0.2037 - accuracy: 0.9288 - val_loss: 0.1717 - val_accuracy: 0.9442\n",
      "Epoch 20/25\n",
      "787/787 [==============================] - 0s 136us/sample - loss: 0.2589 - accuracy: 0.9111 - val_loss: 0.1649 - val_accuracy: 0.9543\n",
      "Epoch 21/25\n",
      "787/787 [==============================] - 0s 134us/sample - loss: 0.2398 - accuracy: 0.9136 - val_loss: 0.1603 - val_accuracy: 0.9543\n",
      "Epoch 22/25\n",
      "787/787 [==============================] - 0s 153us/sample - loss: 0.2037 - accuracy: 0.9276 - val_loss: 0.1567 - val_accuracy: 0.9543\n",
      "Epoch 23/25\n",
      "787/787 [==============================] - 0s 165us/sample - loss: 0.2379 - accuracy: 0.9174 - val_loss: 0.1545 - val_accuracy: 0.9543\n",
      "Epoch 24/25\n",
      "787/787 [==============================] - 0s 175us/sample - loss: 0.2245 - accuracy: 0.9263 - val_loss: 0.1527 - val_accuracy: 0.9543\n",
      "Epoch 25/25\n",
      "787/787 [==============================] - 0s 165us/sample - loss: 0.2138 - accuracy: 0.9212 - val_loss: 0.1506 - val_accuracy: 0.9543\n"
     ]
    }
   ],
   "source": [
    "history = model.fit(x_train, y_train, epochs=25, validation_data=(x_test, y_test))"
   ]
  },
  {
   "cell_type": "code",
   "execution_count": 38,
   "metadata": {
    "colab": {},
    "colab_type": "code",
    "id": "Y24Pij9eJ8XY"
   },
   "outputs": [],
   "source": [
    "# model predictions\n",
    "y_pred = model.predict_classes(x_test)"
   ]
  },
  {
   "cell_type": "code",
   "execution_count": 39,
   "metadata": {
    "colab": {
     "base_uri": "https://localhost:8080/",
     "height": 70
    },
    "colab_type": "code",
    "executionInfo": {
     "elapsed": 973,
     "status": "ok",
     "timestamp": 1574913524738,
     "user": {
      "displayName": "Vijay Gadhave",
      "photoUrl": "https://lh3.googleusercontent.com/a-/AAuE7mCiskVUXETaua8br1GrYe6A5iN3sI80G5Xl2S7LGg=s64",
      "userId": "02099433176152859365"
     },
     "user_tz": -330
    },
    "id": "Z5eI5NxoKEI0",
    "outputId": "82abb9cb-ebad-49ec-a4e1-a9b8e27bd452"
   },
   "outputs": [
    {
     "name": "stdout",
     "output_type": "stream",
     "text": [
      "[1]\n",
      "1\n"
     ]
    },
    {
     "data": {
      "text/plain": [
       "(None, None)"
      ]
     },
     "execution_count": 39,
     "metadata": {},
     "output_type": "execute_result"
    }
   ],
   "source": [
    "print(y_pred[12]), print(y_test[12])"
   ]
  },
  {
   "cell_type": "code",
   "execution_count": 40,
   "metadata": {
    "colab": {
     "base_uri": "https://localhost:8080/",
     "height": 52
    },
    "colab_type": "code",
    "executionInfo": {
     "elapsed": 999,
     "status": "ok",
     "timestamp": 1574913639572,
     "user": {
      "displayName": "Vijay Gadhave",
      "photoUrl": "https://lh3.googleusercontent.com/a-/AAuE7mCiskVUXETaua8br1GrYe6A5iN3sI80G5Xl2S7LGg=s64",
      "userId": "02099433176152859365"
     },
     "user_tz": -330
    },
    "id": "RXxzVeCQKZAJ",
    "outputId": "c9d92512-ec70-466f-c850-db26206d1157"
   },
   "outputs": [
    {
     "name": "stdout",
     "output_type": "stream",
     "text": [
      "[[105   1]\n",
      " [  8  83]]\n"
     ]
    }
   ],
   "source": [
    "# confusion matrix\n",
    "from sklearn.metrics import confusion_matrix, accuracy_score\n",
    "cm = confusion_matrix(y_test, y_pred)\n",
    "print(cm)"
   ]
  },
  {
   "cell_type": "code",
   "execution_count": 41,
   "metadata": {
    "colab": {
     "base_uri": "https://localhost:8080/",
     "height": 34
    },
    "colab_type": "code",
    "executionInfo": {
     "elapsed": 1111,
     "status": "ok",
     "timestamp": 1574913698471,
     "user": {
      "displayName": "Vijay Gadhave",
      "photoUrl": "https://lh3.googleusercontent.com/a-/AAuE7mCiskVUXETaua8br1GrYe6A5iN3sI80G5Xl2S7LGg=s64",
      "userId": "02099433176152859365"
     },
     "user_tz": -330
    },
    "id": "WXKHHA-wKzfQ",
    "outputId": "23f3ea86-8838-4014-f5a2-e3f581ee6615"
   },
   "outputs": [
    {
     "name": "stdout",
     "output_type": "stream",
     "text": [
      "0.9543147208121827\n"
     ]
    }
   ],
   "source": [
    "acc_cm = accuracy_score(y_test, y_pred)\n",
    "print(acc_cm)"
   ]
  },
  {
   "cell_type": "markdown",
   "metadata": {
    "colab_type": "text",
    "id": "TDzya8fbLGhY"
   },
   "source": [
    "# Step 6: Learning Curve"
   ]
  },
  {
   "cell_type": "code",
   "execution_count": 42,
   "metadata": {
    "colab": {},
    "colab_type": "code",
    "id": "l3eS57AALJMB"
   },
   "outputs": [],
   "source": [
    "def learning_curve(history, epoch):\n",
    "\n",
    "  # training vs validation accuracy\n",
    "  epoch_range = range(1, epoch+1)\n",
    "  plt.plot(epoch_range, history.history['accuracy'])\n",
    "  plt.plot(epoch_range, history.history['val_accuracy'])\n",
    "  plt.title('Model Accuracy')\n",
    "  plt.ylabel('Accuracy')\n",
    "  plt.xlabel('Epoch')\n",
    "  plt.legend(['Train', 'val'], loc='upper left')\n",
    "  plt.show()\n",
    "\n",
    "  # training vs validation loss\n",
    "  plt.plot(epoch_range, history.history['loss'])\n",
    "  plt.plot(epoch_range, history.history['val_loss'])\n",
    "  plt.title('Model Loss')\n",
    "  plt.ylabel('Loss')\n",
    "  plt.xlabel('Epoch')\n",
    "  plt.legend(['Train', 'val'], loc='upper left')\n",
    "  plt.show()"
   ]
  },
  {
   "cell_type": "code",
   "execution_count": 43,
   "metadata": {
    "colab": {
     "base_uri": "https://localhost:8080/",
     "height": 573
    },
    "colab_type": "code",
    "executionInfo": {
     "elapsed": 1821,
     "status": "ok",
     "timestamp": 1574913841178,
     "user": {
      "displayName": "Vijay Gadhave",
      "photoUrl": "https://lh3.googleusercontent.com/a-/AAuE7mCiskVUXETaua8br1GrYe6A5iN3sI80G5Xl2S7LGg=s64",
      "userId": "02099433176152859365"
     },
     "user_tz": -330
    },
    "id": "T1nBZ9-aLZxr",
    "outputId": "9c80c9dd-e02c-4418-aa4e-81753f308085"
   },
   "outputs": [
    {
     "data": {
      "image/png": "[encoded data removed]",
      "text/plain": [
       "<Figure size 432x288 with 1 Axes>"
      ]
     },
     "metadata": {
      "needs_background": "light"
     },
     "output_type": "display_data"
    },
    {
     "data": {
      "image/png": "[encoded data removed]",
      "text/plain": [
       "<Figure size 432x288 with 1 Axes>"
      ]
     },
     "metadata": {
      "needs_background": "light"
     },
     "output_type": "display_data"
    }
   ],
   "source": [
    "learning_curve(history, 25)"
   ]
  },
  {
   "cell_type": "code",
   "execution_count": null,
   "metadata": {},
   "outputs": [],
   "source": []
  },
  {
   "cell_type": "code",
   "execution_count": null,
   "metadata": {},
   "outputs": [],
   "source": []
  },
  {
   "cell_type": "code",
   "execution_count": null,
   "metadata": {},
   "outputs": [],
   "source": []
  }
 ],
 "metadata": {
  "colab": {
   "collapsed_sections": [],
   "name": "Project 8: Credit Card Fraud Detection with CNN.ipynb",
   "provenance": [],
   "toc_visible": true
  },
  "kernelspec": {
   "display_name": "Python 3",
   "language": "python",
   "name": "python3"
  },
  "language_info": {
   "codemirror_mode": {
    "name": "ipython",
    "version": 3
   },
   "file_extension": ".py",
   "mimetype": "text/x-python",
   "name": "python",
   "nbconvert_exporter": "python",
   "pygments_lexer": "ipython3",
   "version": "3.8.5"
  }
 },
 "nbformat": 4,
 "nbformat_minor": 1
}
