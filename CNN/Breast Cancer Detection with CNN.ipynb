{
 "cells": [
  {
   "cell_type": "markdown",
   "metadata": {
    "colab_type": "text",
    "id": "LWscUKL1O4Ca"
   },
   "source": [
    "# Step 1: Installation and Setup"
   ]
  },
  {
   "cell_type": "code",
   "execution_count": 3,
   "metadata": {
    "colab": {},
    "colab_type": "code",
    "id": "AN4-CoN6R26Q"
   },
   "outputs": [],
   "source": [
    "import tensorflow as tf\n",
    "import warnings\n",
    "warnings.filterwarnings(\"ignore\")"
   ]
  },
  {
   "cell_type": "code",
   "execution_count": 4,
   "metadata": {
    "colab": {
     "base_uri": "https://localhost:8080/",
     "height": 34
    },
    "colab_type": "code",
    "executionInfo": {
     "elapsed": 1297,
     "status": "ok",
     "timestamp": 1574496102206,
     "user": {
      "displayName": "Vijay Gadhave",
      "photoUrl": "https://lh3.googleusercontent.com/a-/AAuE7mCiskVUXETaua8br1GrYe6A5iN3sI80G5Xl2S7LGg=s64",
      "userId": "02099433176152859365"
     },
     "user_tz": -330
    },
    "id": "YHxkbJ0_R7I5",
    "outputId": "e3a5e929-ceed-4e43-a7e6-ea0b4cfda56b"
   },
   "outputs": [
    {
     "name": "stdout",
     "output_type": "stream",
     "text": [
      "2.0.0-beta0\n"
     ]
    }
   ],
   "source": [
    "print(tf.__version__)"
   ]
  },
  {
   "cell_type": "code",
   "execution_count": 5,
   "metadata": {
    "colab": {},
    "colab_type": "code",
    "id": "KdZ95y0ySEDZ"
   },
   "outputs": [],
   "source": [
    "import numpy as np\n",
    "import pandas as pd\n",
    "import matplotlib.pyplot as plt"
   ]
  },
  {
   "cell_type": "markdown",
   "metadata": {
    "colab_type": "text",
    "id": "4Hv68ajSSOME"
   },
   "source": [
    "# Step 2: Data Preprocessing"
   ]
  },
  {
   "cell_type": "code",
   "execution_count": 6,
   "metadata": {
    "colab": {},
    "colab_type": "code",
    "id": "eD6fZ8zeSRYM"
   },
   "outputs": [],
   "source": [
    "from sklearn import datasets, metrics"
   ]
  },
  {
   "cell_type": "code",
   "execution_count": 7,
   "metadata": {
    "colab": {},
    "colab_type": "code",
    "id": "N9DscVhWSpOQ"
   },
   "outputs": [],
   "source": [
    "# import the dataset\n",
    "cancer = datasets.load_breast_cancer()"
   ]
  },
  {
   "cell_type": "code",
   "execution_count": 8,
   "metadata": {
    "colab": {
     "base_uri": "https://localhost:8080/",
     "height": 1000
    },
    "colab_type": "code",
    "executionInfo": {
     "elapsed": 1325,
     "status": "ok",
     "timestamp": 1574496365420,
     "user": {
      "displayName": "Vijay Gadhave",
      "photoUrl": "https://lh3.googleusercontent.com/a-/AAuE7mCiskVUXETaua8br1GrYe6A5iN3sI80G5Xl2S7LGg=s64",
      "userId": "02099433176152859365"
     },
     "user_tz": -330
    },
    "id": "QwotQpvVS4G-",
    "outputId": "0ab32e53-8790-4679-fb60-b25b3cdfe7d9"
   },
   "outputs": [
    {
     "name": "stdout",
     "output_type": "stream",
     "text": [
      ".. _breast_cancer_dataset:\n",
      "\n",
      "Breast cancer wisconsin (diagnostic) dataset\n",
      "--------------------------------------------\n",
      "\n",
      "**Data Set Characteristics:**\n",
      "\n",
      "    :Number of Instances: 569\n",
      "\n",
      "    :Number of Attributes: 30 numeric, predictive attributes and the class\n",
      "\n",
      "    :Attribute Information:\n",
      "        - radius (mean of distances from center to points on the perimeter)\n",
      "        - texture (standard deviation of gray-scale values)\n",
      "        - perimeter\n",
      "        - area\n",
      "        - smoothness (local variation in radius lengths)\n",
      "        - compactness (perimeter^2 / area - 1.0)\n",
      "        - concavity (severity of concave portions of the contour)\n",
      "        - concave points (number of concave portions of the contour)\n",
      "        - symmetry \n",
      "        - fractal dimension (\"coastline approximation\" - 1)\n",
      "\n",
      "        The mean, standard error, and \"worst\" or largest (mean of the three\n",
      "        largest values) of these features were computed for each image,\n",
      "        resulting in 30 features.  For instance, field 3 is Mean Radius, field\n",
      "        13 is Radius SE, field 23 is Worst Radius.\n",
      "\n",
      "        - class:\n",
      "                - WDBC-Malignant\n",
      "                - WDBC-Benign\n",
      "\n",
      "    :Summary Statistics:\n",
      "\n",
      "    ===================================== ====== ======\n",
      "                                           Min    Max\n",
      "    ===================================== ====== ======\n",
      "    radius (mean):                        6.981  28.11\n",
      "    texture (mean):                       9.71   39.28\n",
      "    perimeter (mean):                     43.79  188.5\n",
      "    area (mean):                          143.5  2501.0\n",
      "    smoothness (mean):                    0.053  0.163\n",
      "    compactness (mean):                   0.019  0.345\n",
      "    concavity (mean):                     0.0    0.427\n",
      "    concave points (mean):                0.0    0.201\n",
      "    symmetry (mean):                      0.106  0.304\n",
      "    fractal dimension (mean):             0.05   0.097\n",
      "    radius (standard error):              0.112  2.873\n",
      "    texture (standard error):             0.36   4.885\n",
      "    perimeter (standard error):           0.757  21.98\n",
      "    area (standard error):                6.802  542.2\n",
      "    smoothness (standard error):          0.002  0.031\n",
      "    compactness (standard error):         0.002  0.135\n",
      "    concavity (standard error):           0.0    0.396\n",
      "    concave points (standard error):      0.0    0.053\n",
      "    symmetry (standard error):            0.008  0.079\n",
      "    fractal dimension (standard error):   0.001  0.03\n",
      "    radius (worst):                       7.93   36.04\n",
      "    texture (worst):                      12.02  49.54\n",
      "    perimeter (worst):                    50.41  251.2\n",
      "    area (worst):                         185.2  4254.0\n",
      "    smoothness (worst):                   0.071  0.223\n",
      "    compactness (worst):                  0.027  1.058\n",
      "    concavity (worst):                    0.0    1.252\n",
      "    concave points (worst):               0.0    0.291\n",
      "    symmetry (worst):                     0.156  0.664\n",
      "    fractal dimension (worst):            0.055  0.208\n",
      "    ===================================== ====== ======\n",
      "\n",
      "    :Missing Attribute Values: None\n",
      "\n",
      "    :Class Distribution: 212 - Malignant, 357 - Benign\n",
      "\n",
      "    :Creator:  Dr. William H. Wolberg, W. Nick Street, Olvi L. Mangasarian\n",
      "\n",
      "    :Donor: Nick Street\n",
      "\n",
      "    :Date: November, 1995\n",
      "\n",
      "This is a copy of UCI ML Breast Cancer Wisconsin (Diagnostic) datasets.\n",
      "https://goo.gl/U2Uwz2\n",
      "\n",
      "Features are computed from a digitized image of a fine needle\n",
      "aspirate (FNA) of a breast mass.  They describe\n",
      "characteristics of the cell nuclei present in the image.\n",
      "\n",
      "Separating plane described above was obtained using\n",
      "Multisurface Method-Tree (MSM-T) [K. P. Bennett, \"Decision Tree\n",
      "Construction Via Linear Programming.\" Proceedings of the 4th\n",
      "Midwest Artificial Intelligence and Cognitive Science Society,\n",
      "pp. 97-101, 1992], a classification method which uses linear\n",
      "programming to construct a decision tree.  Relevant features\n",
      "were selected using an exhaustive search in the space of 1-4\n",
      "features and 1-3 separating planes.\n",
      "\n",
      "The actual linear program used to obtain the separating plane\n",
      "in the 3-dimensional space is that described in:\n",
      "[K. P. Bennett and O. L. Mangasarian: \"Robust Linear\n",
      "Programming Discrimination of Two Linearly Inseparable Sets\",\n",
      "Optimization Methods and Software 1, 1992, 23-34].\n",
      "\n",
      "This database is also available through the UW CS ftp server:\n",
      "\n",
      "ftp ftp.cs.wisc.edu\n",
      "cd math-prog/cpo-dataset/machine-learn/WDBC/\n",
      "\n",
      ".. topic:: References\n",
      "\n",
      "   - W.N. Street, W.H. Wolberg and O.L. Mangasarian. Nuclear feature extraction \n",
      "     for breast tumor diagnosis. IS&T/SPIE 1993 International Symposium on \n",
      "     Electronic Imaging: Science and Technology, volume 1905, pages 861-870,\n",
      "     San Jose, CA, 1993.\n",
      "   - O.L. Mangasarian, W.N. Street and W.H. Wolberg. Breast cancer diagnosis and \n",
      "     prognosis via linear programming. Operations Research, 43(4), pages 570-577, \n",
      "     July-August 1995.\n",
      "   - W.H. Wolberg, W.N. Street, and O.L. Mangasarian. Machine learning techniques\n",
      "     to diagnose breast cancer from fine-needle aspirates. Cancer Letters 77 (1994) \n",
      "     163-171.\n"
     ]
    }
   ],
   "source": [
    "print(cancer.DESCR)"
   ]
  },
  {
   "cell_type": "code",
   "execution_count": 12,
   "metadata": {
    "colab": {},
    "colab_type": "code",
    "id": "V3rLMP8CTpAA"
   },
   "outputs": [],
   "source": [
    "# matrix of features\n",
    "x = pd.DataFrame(data = cancer.data, columns=cancer.feature_names)"
   ]
  },
  {
   "cell_type": "code",
   "execution_count": 13,
   "metadata": {
    "colab": {
     "base_uri": "https://localhost:8080/",
     "height": 253
    },
    "colab_type": "code",
    "executionInfo": {
     "elapsed": 1640,
     "status": "ok",
     "timestamp": 1574496709789,
     "user": {
      "displayName": "Vijay Gadhave",
      "photoUrl": "https://lh3.googleusercontent.com/a-/AAuE7mCiskVUXETaua8br1GrYe6A5iN3sI80G5Xl2S7LGg=s64",
      "userId": "02099433176152859365"
     },
     "user_tz": -330
    },
    "id": "Jv_DTbPAUOcd",
    "outputId": "e8d552b2-80ec-4129-f07a-3ea5872ce080"
   },
   "outputs": [
    {
     "data": {
      "text/html": [
       "<div>\n",
       "<style scoped>\n",
       "    .dataframe tbody tr th:only-of-type {\n",
       "        vertical-align: middle;\n",
       "    }\n",
       "\n",
       "    .dataframe tbody tr th {\n",
       "        vertical-align: top;\n",
       "    }\n",
       "\n",
       "    .dataframe thead th {\n",
       "        text-align: right;\n",
       "    }\n",
       "</style>\n",
       "<table border=\"1\" class=\"dataframe\">\n",
       "  <thead>\n",
       "    <tr style=\"text-align: right;\">\n",
       "      <th></th>\n",
       "      <th>mean radius</th>\n",
       "      <th>mean texture</th>\n",
       "      <th>mean perimeter</th>\n",
       "      <th>mean area</th>\n",
       "      <th>mean smoothness</th>\n",
       "      <th>mean compactness</th>\n",
       "      <th>mean concavity</th>\n",
       "      <th>mean concave points</th>\n",
       "      <th>mean symmetry</th>\n",
       "      <th>mean fractal dimension</th>\n",
       "      <th>...</th>\n",
       "      <th>worst radius</th>\n",
       "      <th>worst texture</th>\n",
       "      <th>worst perimeter</th>\n",
       "      <th>worst area</th>\n",
       "      <th>worst smoothness</th>\n",
       "      <th>worst compactness</th>\n",
       "      <th>worst concavity</th>\n",
       "      <th>worst concave points</th>\n",
       "      <th>worst symmetry</th>\n",
       "      <th>worst fractal dimension</th>\n",
       "    </tr>\n",
       "  </thead>\n",
       "  <tbody>\n",
       "    <tr>\n",
       "      <th>0</th>\n",
       "      <td>17.99</td>\n",
       "      <td>10.38</td>\n",
       "      <td>122.80</td>\n",
       "      <td>1001.0</td>\n",
       "      <td>0.11840</td>\n",
       "      <td>0.27760</td>\n",
       "      <td>0.3001</td>\n",
       "      <td>0.14710</td>\n",
       "      <td>0.2419</td>\n",
       "      <td>0.07871</td>\n",
       "      <td>...</td>\n",
       "      <td>25.38</td>\n",
       "      <td>17.33</td>\n",
       "      <td>184.60</td>\n",
       "      <td>2019.0</td>\n",
       "      <td>0.1622</td>\n",
       "      <td>0.6656</td>\n",
       "      <td>0.7119</td>\n",
       "      <td>0.2654</td>\n",
       "      <td>0.4601</td>\n",
       "      <td>0.11890</td>\n",
       "    </tr>\n",
       "    <tr>\n",
       "      <th>1</th>\n",
       "      <td>20.57</td>\n",
       "      <td>17.77</td>\n",
       "      <td>132.90</td>\n",
       "      <td>1326.0</td>\n",
       "      <td>0.08474</td>\n",
       "      <td>0.07864</td>\n",
       "      <td>0.0869</td>\n",
       "      <td>0.07017</td>\n",
       "      <td>0.1812</td>\n",
       "      <td>0.05667</td>\n",
       "      <td>...</td>\n",
       "      <td>24.99</td>\n",
       "      <td>23.41</td>\n",
       "      <td>158.80</td>\n",
       "      <td>1956.0</td>\n",
       "      <td>0.1238</td>\n",
       "      <td>0.1866</td>\n",
       "      <td>0.2416</td>\n",
       "      <td>0.1860</td>\n",
       "      <td>0.2750</td>\n",
       "      <td>0.08902</td>\n",
       "    </tr>\n",
       "    <tr>\n",
       "      <th>2</th>\n",
       "      <td>19.69</td>\n",
       "      <td>21.25</td>\n",
       "      <td>130.00</td>\n",
       "      <td>1203.0</td>\n",
       "      <td>0.10960</td>\n",
       "      <td>0.15990</td>\n",
       "      <td>0.1974</td>\n",
       "      <td>0.12790</td>\n",
       "      <td>0.2069</td>\n",
       "      <td>0.05999</td>\n",
       "      <td>...</td>\n",
       "      <td>23.57</td>\n",
       "      <td>25.53</td>\n",
       "      <td>152.50</td>\n",
       "      <td>1709.0</td>\n",
       "      <td>0.1444</td>\n",
       "      <td>0.4245</td>\n",
       "      <td>0.4504</td>\n",
       "      <td>0.2430</td>\n",
       "      <td>0.3613</td>\n",
       "      <td>0.08758</td>\n",
       "    </tr>\n",
       "    <tr>\n",
       "      <th>3</th>\n",
       "      <td>11.42</td>\n",
       "      <td>20.38</td>\n",
       "      <td>77.58</td>\n",
       "      <td>386.1</td>\n",
       "      <td>0.14250</td>\n",
       "      <td>0.28390</td>\n",
       "      <td>0.2414</td>\n",
       "      <td>0.10520</td>\n",
       "      <td>0.2597</td>\n",
       "      <td>0.09744</td>\n",
       "      <td>...</td>\n",
       "      <td>14.91</td>\n",
       "      <td>26.50</td>\n",
       "      <td>98.87</td>\n",
       "      <td>567.7</td>\n",
       "      <td>0.2098</td>\n",
       "      <td>0.8663</td>\n",
       "      <td>0.6869</td>\n",
       "      <td>0.2575</td>\n",
       "      <td>0.6638</td>\n",
       "      <td>0.17300</td>\n",
       "    </tr>\n",
       "    <tr>\n",
       "      <th>4</th>\n",
       "      <td>20.29</td>\n",
       "      <td>14.34</td>\n",
       "      <td>135.10</td>\n",
       "      <td>1297.0</td>\n",
       "      <td>0.10030</td>\n",
       "      <td>0.13280</td>\n",
       "      <td>0.1980</td>\n",
       "      <td>0.10430</td>\n",
       "      <td>0.1809</td>\n",
       "      <td>0.05883</td>\n",
       "      <td>...</td>\n",
       "      <td>22.54</td>\n",
       "      <td>16.67</td>\n",
       "      <td>152.20</td>\n",
       "      <td>1575.0</td>\n",
       "      <td>0.1374</td>\n",
       "      <td>0.2050</td>\n",
       "      <td>0.4000</td>\n",
       "      <td>0.1625</td>\n",
       "      <td>0.2364</td>\n",
       "      <td>0.07678</td>\n",
       "    </tr>\n",
       "  </tbody>\n",
       "</table>\n",
       "<p>5 rows × 30 columns</p>\n",
       "</div>"
      ],
      "text/plain": [
       "   mean radius  mean texture  mean perimeter  mean area  mean smoothness  \\\n",
       "0        17.99         10.38          122.80     1001.0          0.11840   \n",
       "1        20.57         17.77          132.90     1326.0          0.08474   \n",
       "2        19.69         21.25          130.00     1203.0          0.10960   \n",
       "3        11.42         20.38           77.58      386.1          0.14250   \n",
       "4        20.29         14.34          135.10     1297.0          0.10030   \n",
       "\n",
       "   mean compactness  mean concavity  mean concave points  mean symmetry  \\\n",
       "0           0.27760          0.3001              0.14710         0.2419   \n",
       "1           0.07864          0.0869              0.07017         0.1812   \n",
       "2           0.15990          0.1974              0.12790         0.2069   \n",
       "3           0.28390          0.2414              0.10520         0.2597   \n",
       "4           0.13280          0.1980              0.10430         0.1809   \n",
       "\n",
       "   mean fractal dimension  ...  worst radius  worst texture  worst perimeter  \\\n",
       "0                 0.07871  ...         25.38          17.33           184.60   \n",
       "1                 0.05667  ...         24.99          23.41           158.80   \n",
       "2                 0.05999  ...         23.57          25.53           152.50   \n",
       "3                 0.09744  ...         14.91          26.50            98.87   \n",
       "4                 0.05883  ...         22.54          16.67           152.20   \n",
       "\n",
       "   worst area  worst smoothness  worst compactness  worst concavity  \\\n",
       "0      2019.0            0.1622             0.6656           0.7119   \n",
       "1      1956.0            0.1238             0.1866           0.2416   \n",
       "2      1709.0            0.1444             0.4245           0.4504   \n",
       "3       567.7            0.2098             0.8663           0.6869   \n",
       "4      1575.0            0.1374             0.2050           0.4000   \n",
       "\n",
       "   worst concave points  worst symmetry  worst fractal dimension  \n",
       "0                0.2654          0.4601                  0.11890  \n",
       "1                0.1860          0.2750                  0.08902  \n",
       "2                0.2430          0.3613                  0.08758  \n",
       "3                0.2575          0.6638                  0.17300  \n",
       "4                0.1625          0.2364                  0.07678  \n",
       "\n",
       "[5 rows x 30 columns]"
      ]
     },
     "execution_count": 13,
     "metadata": {},
     "output_type": "execute_result"
    }
   ],
   "source": [
    "x.head()"
   ]
  },
  {
   "cell_type": "code",
   "execution_count": 14,
   "metadata": {
    "colab": {
     "base_uri": "https://localhost:8080/",
     "height": 298
    },
    "colab_type": "code",
    "executionInfo": {
     "elapsed": 1325,
     "status": "ok",
     "timestamp": 1574496966058,
     "user": {
      "displayName": "Vijay Gadhave",
      "photoUrl": "https://lh3.googleusercontent.com/a-/AAuE7mCiskVUXETaua8br1GrYe6A5iN3sI80G5Xl2S7LGg=s64",
      "userId": "02099433176152859365"
     },
     "user_tz": -330
    },
    "id": "R_FmU-jBVJca",
    "outputId": "2c6b8a38-4dee-46d8-cfa8-8b8c9eb3be4f"
   },
   "outputs": [
    {
     "name": "stdout",
     "output_type": "stream",
     "text": [
      "[0 0 0 0 0 0 0 0 0 0 0 0 0 0 0 0 0 0 0 1 1 1 0 0 0 0 0 0 0 0 0 0 0 0 0 0 0\n",
      " 1 0 0 0 0 0 0 0 0 1 0 1 1 1 1 1 0 0 1 0 0 1 1 1 1 0 1 0 0 1 1 1 1 0 1 0 0\n",
      " 1 0 1 0 0 1 1 1 0 0 1 0 0 0 1 1 1 0 1 1 0 0 1 1 1 0 0 1 1 1 1 0 1 1 0 1 1\n",
      " 1 1 1 1 1 1 0 0 0 1 0 0 1 1 1 0 0 1 0 1 0 0 1 0 0 1 1 0 1 1 0 1 1 1 1 0 1\n",
      " 1 1 1 1 1 1 1 1 0 1 1 1 1 0 0 1 0 1 1 0 0 1 1 0 0 1 1 1 1 0 1 1 0 0 0 1 0\n",
      " 1 0 1 1 1 0 1 1 0 0 1 0 0 0 0 1 0 0 0 1 0 1 0 1 1 0 1 0 0 0 0 1 1 0 0 1 1\n",
      " 1 0 1 1 1 1 1 0 0 1 1 0 1 1 0 0 1 0 1 1 1 1 0 1 1 1 1 1 0 1 0 0 0 0 0 0 0\n",
      " 0 0 0 0 0 0 0 1 1 1 1 1 1 0 1 0 1 1 0 1 1 0 1 0 0 1 1 1 1 1 1 1 1 1 1 1 1\n",
      " 1 0 1 1 0 1 0 1 1 1 1 1 1 1 1 1 1 1 1 1 1 0 1 1 1 0 1 0 1 1 1 1 0 0 0 1 1\n",
      " 1 1 0 1 0 1 0 1 1 1 0 1 1 1 1 1 1 1 0 0 0 1 1 1 1 1 1 1 1 1 1 1 0 0 1 0 0\n",
      " 0 1 0 0 1 1 1 1 1 0 1 1 1 1 1 0 1 1 1 0 1 1 0 0 1 1 1 1 1 1 0 1 1 1 1 1 1\n",
      " 1 0 1 1 1 1 1 0 1 1 0 1 1 1 1 1 1 1 1 1 1 1 1 0 1 0 0 1 0 1 1 1 1 1 0 1 1\n",
      " 0 1 0 1 1 0 1 0 1 1 1 1 1 1 1 1 0 0 1 1 1 1 1 1 0 1 1 1 1 1 1 1 1 1 1 0 1\n",
      " 1 1 1 1 1 1 0 1 0 1 1 0 1 1 1 1 1 0 0 1 0 1 0 1 1 1 1 1 0 1 1 0 1 0 1 0 0\n",
      " 1 1 1 0 1 1 1 1 1 1 1 1 1 1 1 0 1 0 0 1 1 1 1 1 1 1 1 1 1 1 1 1 1 1 1 1 1\n",
      " 1 1 1 1 1 1 1 0 0 0 0 0 0 1]\n"
     ]
    }
   ],
   "source": [
    "# dependent variable\n",
    "y = cancer.target\n",
    "print(y)"
   ]
  },
  {
   "cell_type": "code",
   "execution_count": 15,
   "metadata": {
    "colab": {
     "base_uri": "https://localhost:8080/",
     "height": 34
    },
    "colab_type": "code",
    "executionInfo": {
     "elapsed": 1213,
     "status": "ok",
     "timestamp": 1574496994858,
     "user": {
      "displayName": "Vijay Gadhave",
      "photoUrl": "https://lh3.googleusercontent.com/a-/AAuE7mCiskVUXETaua8br1GrYe6A5iN3sI80G5Xl2S7LGg=s64",
      "userId": "02099433176152859365"
     },
     "user_tz": -330
    },
    "id": "gUQ09wiwVU6S",
    "outputId": "93ab0b73-4590-4e97-fecb-11d6a64a01f7"
   },
   "outputs": [
    {
     "data": {
      "text/plain": [
       "array(['malignant', 'benign'], dtype='<U9')"
      ]
     },
     "execution_count": 15,
     "metadata": {},
     "output_type": "execute_result"
    }
   ],
   "source": [
    "cancer.target_names"
   ]
  },
  {
   "cell_type": "code",
   "execution_count": 16,
   "metadata": {
    "colab": {
     "base_uri": "https://localhost:8080/",
     "height": 34
    },
    "colab_type": "code",
    "executionInfo": {
     "elapsed": 831,
     "status": "ok",
     "timestamp": 1574497034631,
     "user": {
      "displayName": "Vijay Gadhave",
      "photoUrl": "https://lh3.googleusercontent.com/a-/AAuE7mCiskVUXETaua8br1GrYe6A5iN3sI80G5Xl2S7LGg=s64",
      "userId": "02099433176152859365"
     },
     "user_tz": -330
    },
    "id": "4xROtLSXVc4o",
    "outputId": "721147b6-0412-4808-964d-d587e899bc3d"
   },
   "outputs": [
    {
     "data": {
      "text/plain": [
       "((569, 30), (569,))"
      ]
     },
     "execution_count": 16,
     "metadata": {},
     "output_type": "execute_result"
    }
   ],
   "source": [
    "x.shape, y.shape"
   ]
  },
  {
   "cell_type": "code",
   "execution_count": 17,
   "metadata": {
    "colab": {},
    "colab_type": "code",
    "id": "7ks7XT_3VvaB"
   },
   "outputs": [],
   "source": [
    "# splitting the dataset in train and test set\n",
    "from sklearn.model_selection import train_test_split\n",
    "x_train, x_test, y_train, y_test = train_test_split(x, y, test_size = 0.2, random_state = 0)"
   ]
  },
  {
   "cell_type": "code",
   "execution_count": 18,
   "metadata": {
    "colab": {
     "base_uri": "https://localhost:8080/",
     "height": 34
    },
    "colab_type": "code",
    "executionInfo": {
     "elapsed": 1198,
     "status": "ok",
     "timestamp": 1574497260867,
     "user": {
      "displayName": "Vijay Gadhave",
      "photoUrl": "https://lh3.googleusercontent.com/a-/AAuE7mCiskVUXETaua8br1GrYe6A5iN3sI80G5Xl2S7LGg=s64",
      "userId": "02099433176152859365"
     },
     "user_tz": -330
    },
    "id": "Iu13Nc-KWWsx",
    "outputId": "63779fb2-8dbd-4a0c-cdec-6e903174bf47"
   },
   "outputs": [
    {
     "data": {
      "text/plain": [
       "((455, 30), (114, 30))"
      ]
     },
     "execution_count": 18,
     "metadata": {},
     "output_type": "execute_result"
    }
   ],
   "source": [
    "x_train.shape, x_test.shape"
   ]
  },
  {
   "cell_type": "code",
   "execution_count": 19,
   "metadata": {
    "colab": {},
    "colab_type": "code",
    "id": "XjonFEmlWh46"
   },
   "outputs": [],
   "source": [
    "# feature scaling\n",
    "from sklearn.preprocessing import StandardScaler\n",
    "sc = StandardScaler()\n",
    "x_train = sc.fit_transform(x_train)\n",
    "x_test = sc.transform(x_test)"
   ]
  },
  {
   "cell_type": "code",
   "execution_count": 20,
   "metadata": {
    "colab": {
     "base_uri": "https://localhost:8080/",
     "height": 245
    },
    "colab_type": "code",
    "executionInfo": {
     "elapsed": 1106,
     "status": "ok",
     "timestamp": 1574497669825,
     "user": {
      "displayName": "Vijay Gadhave",
      "photoUrl": "https://lh3.googleusercontent.com/a-/AAuE7mCiskVUXETaua8br1GrYe6A5iN3sI80G5Xl2S7LGg=s64",
      "userId": "02099433176152859365"
     },
     "user_tz": -330
    },
    "id": "IxnvnXCZX8HM",
    "outputId": "b2e9523c-d851-46a9-e432-b22ce8277bfa"
   },
   "outputs": [
    {
     "data": {
      "text/plain": [
       "array([[-1.15036482, -0.39064196, -1.12855021, ..., -0.75798367,\n",
       "        -0.01614761, -0.38503402],\n",
       "       [-0.93798972,  0.68051405, -0.94820146, ..., -0.60687023,\n",
       "         0.09669004, -0.38615797],\n",
       "       [ 0.574121  , -1.03333557,  0.51394098, ..., -0.02371948,\n",
       "        -0.20050207, -0.75144254],\n",
       "       ...,\n",
       "       [-1.32422924, -0.20048168, -1.31754581, ..., -0.97974953,\n",
       "        -0.71542314, -0.11978123],\n",
       "       [-1.24380987, -0.2245526 , -1.28007609, ..., -1.75401433,\n",
       "        -1.58157125, -1.00601779],\n",
       "       [-0.73694129,  1.14989702, -0.71226578, ..., -0.27460457,\n",
       "        -1.25895095,  0.21515662]])"
      ]
     },
     "execution_count": 20,
     "metadata": {},
     "output_type": "execute_result"
    }
   ],
   "source": [
    "x_train"
   ]
  },
  {
   "cell_type": "code",
   "execution_count": 21,
   "metadata": {
    "colab": {
     "base_uri": "https://localhost:8080/",
     "height": 34
    },
    "colab_type": "code",
    "executionInfo": {
     "elapsed": 1318,
     "status": "ok",
     "timestamp": 1574497701127,
     "user": {
      "displayName": "Vijay Gadhave",
      "photoUrl": "https://lh3.googleusercontent.com/a-/AAuE7mCiskVUXETaua8br1GrYe6A5iN3sI80G5Xl2S7LGg=s64",
      "userId": "02099433176152859365"
     },
     "user_tz": -330
    },
    "id": "uJ4izo7BX_eg",
    "outputId": "2d9d84c7-4d0b-43b1-f79c-d3bdbe7b9f1f"
   },
   "outputs": [
    {
     "data": {
      "text/plain": [
       "((455, 30), (114, 30))"
      ]
     },
     "execution_count": 21,
     "metadata": {},
     "output_type": "execute_result"
    }
   ],
   "source": [
    "x_train.shape, x_test.shape"
   ]
  },
  {
   "cell_type": "code",
   "execution_count": 22,
   "metadata": {
    "colab": {},
    "colab_type": "code",
    "id": "DXd9L6K-YQek"
   },
   "outputs": [],
   "source": [
    "x_train = x_train.reshape(455, 30, 1)\n",
    "x_test = x_test.reshape(114, 30, 1)\n"
   ]
  },
  {
   "cell_type": "code",
   "execution_count": 23,
   "metadata": {
    "colab": {
     "base_uri": "https://localhost:8080/",
     "height": 34
    },
    "colab_type": "code",
    "executionInfo": {
     "elapsed": 1140,
     "status": "ok",
     "timestamp": 1574497801411,
     "user": {
      "displayName": "Vijay Gadhave",
      "photoUrl": "https://lh3.googleusercontent.com/a-/AAuE7mCiskVUXETaua8br1GrYe6A5iN3sI80G5Xl2S7LGg=s64",
      "userId": "02099433176152859365"
     },
     "user_tz": -330
    },
    "id": "j3rLp6asYcks",
    "outputId": "492e54f7-566a-4c62-da46-1631182ad6d7"
   },
   "outputs": [
    {
     "data": {
      "text/plain": [
       "((455, 30, 1), (114, 30, 1))"
      ]
     },
     "execution_count": 23,
     "metadata": {},
     "output_type": "execute_result"
    }
   ],
   "source": [
    "x_train.shape, x_test.shape"
   ]
  },
  {
   "cell_type": "markdown",
   "metadata": {
    "colab_type": "text",
    "id": "PNx5AHjNdKZx"
   },
   "source": [
    "# Step 3: Building the model"
   ]
  },
  {
   "cell_type": "code",
   "execution_count": 24,
   "metadata": {
    "colab": {},
    "colab_type": "code",
    "id": "h954pOcmdPlh"
   },
   "outputs": [],
   "source": [
    "# define an object\n",
    "model = tf.keras.models.Sequential()"
   ]
  },
  {
   "cell_type": "code",
   "execution_count": 25,
   "metadata": {
    "colab": {},
    "colab_type": "code",
    "id": "_Q895bFJdl5p"
   },
   "outputs": [],
   "source": [
    "# First CNN layer\n",
    "model.add(tf.keras.layers.Conv1D(filters=32, kernel_size=2, activation='relu', input_shape = (30, 1)))\n",
    "\n",
    "# batch normalization\n",
    "model.add(tf.keras.layers.BatchNormalization())\n",
    "\n",
    "# dropout layer\n",
    "model.add(tf.keras.layers.Dropout(0.2))"
   ]
  },
  {
   "cell_type": "code",
   "execution_count": 26,
   "metadata": {
    "colab": {},
    "colab_type": "code",
    "id": "rwtDz7_DfpCu"
   },
   "outputs": [],
   "source": [
    "# second CNN layer\n",
    "model.add(tf.keras.layers.Conv1D(filters=64, kernel_size=2, activation='relu'))\n",
    "\n",
    "# batch normalization\n",
    "model.add(tf.keras.layers.BatchNormalization())\n",
    "\n",
    "# dropout layer\n",
    "model.add(tf.keras.layers.Dropout(0.4))"
   ]
  },
  {
   "cell_type": "code",
   "execution_count": 27,
   "metadata": {
    "colab": {},
    "colab_type": "code",
    "id": "vmvK-_Nof4rA"
   },
   "outputs": [],
   "source": [
    "# flatten layer\n",
    "model.add(tf.keras.layers.Flatten())"
   ]
  },
  {
   "cell_type": "code",
   "execution_count": 28,
   "metadata": {
    "colab": {},
    "colab_type": "code",
    "id": "jZVh2Fhmf__v"
   },
   "outputs": [],
   "source": [
    "# dense layer\n",
    "model.add(tf.keras.layers.Dense(units=64, activation='relu'))\n",
    "\n",
    "# output layer\n",
    "model.add(tf.keras.layers.Dense(units=1, activation='sigmoid'))\n"
   ]
  },
  {
   "cell_type": "code",
   "execution_count": 29,
   "metadata": {
    "colab": {
     "base_uri": "https://localhost:8080/",
     "height": 474
    },
    "colab_type": "code",
    "executionInfo": {
     "elapsed": 1118,
     "status": "ok",
     "timestamp": 1574499945150,
     "user": {
      "displayName": "Vijay Gadhave",
      "photoUrl": "https://lh3.googleusercontent.com/a-/AAuE7mCiskVUXETaua8br1GrYe6A5iN3sI80G5Xl2S7LGg=s64",
      "userId": "02099433176152859365"
     },
     "user_tz": -330
    },
    "id": "BNylJnUggm1K",
    "outputId": "6d3d5e48-ca10-4dfc-8d9f-cacbdf8c75e7"
   },
   "outputs": [
    {
     "name": "stdout",
     "output_type": "stream",
     "text": [
      "Model: \"sequential\"\n",
      "_________________________________________________________________\n",
      "Layer (type)                 Output Shape              Param #   \n",
      "=================================================================\n",
      "conv1d (Conv1D)              (None, 29, 32)            96        \n",
      "_________________________________________________________________\n",
      "batch_normalization (BatchNo (None, 29, 32)            128       \n",
      "_________________________________________________________________\n",
      "dropout (Dropout)            (None, 29, 32)            0         \n",
      "_________________________________________________________________\n",
      "conv1d_1 (Conv1D)            (None, 28, 64)            4160      \n",
      "_________________________________________________________________\n",
      "batch_normalization_1 (Batch (None, 28, 64)            256       \n",
      "_________________________________________________________________\n",
      "dropout_1 (Dropout)          (None, 28, 64)            0         \n",
      "_________________________________________________________________\n",
      "flatten (Flatten)            (None, 1792)              0         \n",
      "_________________________________________________________________\n",
      "dense (Dense)                (None, 64)                114752    \n",
      "_________________________________________________________________\n",
      "dense_1 (Dense)              (None, 1)                 65        \n",
      "=================================================================\n",
      "Total params: 119,457\n",
      "Trainable params: 119,265\n",
      "Non-trainable params: 192\n",
      "_________________________________________________________________\n"
     ]
    }
   ],
   "source": [
    "model.summary()"
   ]
  },
  {
   "cell_type": "code",
   "execution_count": 30,
   "metadata": {
    "colab": {},
    "colab_type": "code",
    "id": "nUehDfmWgxKT"
   },
   "outputs": [],
   "source": [
    "# compile model\n",
    "\n",
    "opt = tf.keras.optimizers.Adam(learning_rate=0.00005)\n",
    "\n",
    "model.compile(optimizer=opt, loss='binary_crossentropy', metrics=['accuracy'])"
   ]
  },
  {
   "cell_type": "markdown",
   "metadata": {
    "colab_type": "text",
    "id": "azeGHK4Eh6oi"
   },
   "source": [
    "# Step 4: Training the model"
   ]
  },
  {
   "cell_type": "code",
   "execution_count": 31,
   "metadata": {
    "colab": {
     "base_uri": "https://localhost:8080/",
     "height": 1000
    },
    "colab_type": "code",
    "executionInfo": {
     "elapsed": 11882,
     "status": "ok",
     "timestamp": 1574502345456,
     "user": {
      "displayName": "Vijay Gadhave",
      "photoUrl": "https://lh3.googleusercontent.com/a-/AAuE7mCiskVUXETaua8br1GrYe6A5iN3sI80G5Xl2S7LGg=s64",
      "userId": "02099433176152859365"
     },
     "user_tz": -330
    },
    "id": "YTTssFtipPDw",
    "outputId": "bc698b25-b931-439f-aa06-64cd208f9357"
   },
   "outputs": [
    {
     "name": "stdout",
     "output_type": "stream",
     "text": [
      "WARNING:tensorflow:From /Users/saurmoha/anaconda3/lib/python3.7/site-packages/tensorflow/python/ops/math_grad.py:1250: add_dispatch_support.<locals>.wrapper (from tensorflow.python.ops.array_ops) is deprecated and will be removed in a future version.\n",
      "Instructions for updating:\n",
      "Use tf.where in 2.0, which has the same broadcast rule as np.where\n",
      "Train on 455 samples, validate on 114 samples\n",
      "Epoch 1/50\n",
      "455/455 [==============================] - 1s 2ms/sample - loss: 0.6956 - accuracy: 0.6571 - val_loss: 0.6161 - val_accuracy: 0.8772\n",
      "Epoch 2/50\n",
      "455/455 [==============================] - 0s 229us/sample - loss: 0.4315 - accuracy: 0.7956 - val_loss: 0.5726 - val_accuracy: 0.8947\n",
      "Epoch 3/50\n",
      "455/455 [==============================] - 0s 183us/sample - loss: 0.2850 - accuracy: 0.9011 - val_loss: 0.5378 - val_accuracy: 0.9035\n",
      "Epoch 4/50\n",
      "455/455 [==============================] - 0s 231us/sample - loss: 0.2360 - accuracy: 0.9055 - val_loss: 0.5054 - val_accuracy: 0.9211\n",
      "Epoch 5/50\n",
      "455/455 [==============================] - 0s 255us/sample - loss: 0.1869 - accuracy: 0.9341 - val_loss: 0.4758 - val_accuracy: 0.9211\n",
      "Epoch 6/50\n",
      "455/455 [==============================] - 0s 224us/sample - loss: 0.1748 - accuracy: 0.9407 - val_loss: 0.4472 - val_accuracy: 0.9211\n",
      "Epoch 7/50\n",
      "455/455 [==============================] - 0s 234us/sample - loss: 0.1518 - accuracy: 0.9538 - val_loss: 0.4190 - val_accuracy: 0.9386\n",
      "Epoch 8/50\n",
      "455/455 [==============================] - 0s 189us/sample - loss: 0.1462 - accuracy: 0.9626 - val_loss: 0.3916 - val_accuracy: 0.9386\n",
      "Epoch 9/50\n",
      "455/455 [==============================] - 0s 230us/sample - loss: 0.1459 - accuracy: 0.9516 - val_loss: 0.3640 - val_accuracy: 0.9474\n",
      "Epoch 10/50\n",
      "455/455 [==============================] - 0s 218us/sample - loss: 0.1441 - accuracy: 0.9516 - val_loss: 0.3356 - val_accuracy: 0.9561\n",
      "Epoch 11/50\n",
      "455/455 [==============================] - 0s 228us/sample - loss: 0.1092 - accuracy: 0.9604 - val_loss: 0.3091 - val_accuracy: 0.9561\n",
      "Epoch 12/50\n",
      "455/455 [==============================] - 0s 193us/sample - loss: 0.1080 - accuracy: 0.9692 - val_loss: 0.2829 - val_accuracy: 0.9474\n",
      "Epoch 13/50\n",
      "455/455 [==============================] - 0s 232us/sample - loss: 0.1126 - accuracy: 0.9670 - val_loss: 0.2593 - val_accuracy: 0.9474\n",
      "Epoch 14/50\n",
      "455/455 [==============================] - 0s 262us/sample - loss: 0.1012 - accuracy: 0.9692 - val_loss: 0.2373 - val_accuracy: 0.9474\n",
      "Epoch 15/50\n",
      "455/455 [==============================] - 0s 215us/sample - loss: 0.1148 - accuracy: 0.9495 - val_loss: 0.2183 - val_accuracy: 0.9474\n",
      "Epoch 16/50\n",
      "455/455 [==============================] - 0s 190us/sample - loss: 0.0936 - accuracy: 0.9692 - val_loss: 0.2001 - val_accuracy: 0.9474\n",
      "Epoch 17/50\n",
      "455/455 [==============================] - 0s 169us/sample - loss: 0.1072 - accuracy: 0.9604 - val_loss: 0.1841 - val_accuracy: 0.9474\n",
      "Epoch 18/50\n",
      "455/455 [==============================] - 0s 207us/sample - loss: 0.0982 - accuracy: 0.9604 - val_loss: 0.1696 - val_accuracy: 0.9561\n",
      "Epoch 19/50\n",
      "455/455 [==============================] - 0s 246us/sample - loss: 0.0908 - accuracy: 0.9736 - val_loss: 0.1564 - val_accuracy: 0.9561\n",
      "Epoch 20/50\n",
      "455/455 [==============================] - 0s 409us/sample - loss: 0.0994 - accuracy: 0.9670 - val_loss: 0.1451 - val_accuracy: 0.9561\n",
      "Epoch 21/50\n",
      "455/455 [==============================] - 0s 289us/sample - loss: 0.1012 - accuracy: 0.9604 - val_loss: 0.1383 - val_accuracy: 0.9561\n",
      "Epoch 22/50\n",
      "455/455 [==============================] - 0s 256us/sample - loss: 0.0782 - accuracy: 0.9802 - val_loss: 0.1269 - val_accuracy: 0.9561\n",
      "Epoch 23/50\n",
      "455/455 [==============================] - 0s 207us/sample - loss: 0.0755 - accuracy: 0.9714 - val_loss: 0.1181 - val_accuracy: 0.9561\n",
      "Epoch 24/50\n",
      "455/455 [==============================] - 0s 355us/sample - loss: 0.0873 - accuracy: 0.9758 - val_loss: 0.1096 - val_accuracy: 0.9561\n",
      "Epoch 25/50\n",
      "455/455 [==============================] - 0s 343us/sample - loss: 0.0724 - accuracy: 0.9802 - val_loss: 0.1021 - val_accuracy: 0.9561\n",
      "Epoch 26/50\n",
      "455/455 [==============================] - 0s 277us/sample - loss: 0.0835 - accuracy: 0.9692 - val_loss: 0.0954 - val_accuracy: 0.9737\n",
      "Epoch 27/50\n",
      "455/455 [==============================] - 0s 339us/sample - loss: 0.0802 - accuracy: 0.9802 - val_loss: 0.0896 - val_accuracy: 0.9737\n",
      "Epoch 28/50\n",
      "455/455 [==============================] - 0s 306us/sample - loss: 0.0752 - accuracy: 0.9758 - val_loss: 0.0857 - val_accuracy: 0.9649\n",
      "Epoch 29/50\n",
      "455/455 [==============================] - 0s 306us/sample - loss: 0.0813 - accuracy: 0.9714 - val_loss: 0.0812 - val_accuracy: 0.9561\n",
      "Epoch 30/50\n",
      "455/455 [==============================] - 0s 269us/sample - loss: 0.0760 - accuracy: 0.9802 - val_loss: 0.0767 - val_accuracy: 0.9649\n",
      "Epoch 31/50\n",
      "455/455 [==============================] - 0s 263us/sample - loss: 0.0675 - accuracy: 0.9758 - val_loss: 0.0734 - val_accuracy: 0.9649\n",
      "Epoch 32/50\n",
      "455/455 [==============================] - 0s 179us/sample - loss: 0.0676 - accuracy: 0.9758 - val_loss: 0.0696 - val_accuracy: 0.9649\n",
      "Epoch 33/50\n",
      "455/455 [==============================] - 0s 197us/sample - loss: 0.0786 - accuracy: 0.9714 - val_loss: 0.0674 - val_accuracy: 0.9649\n",
      "Epoch 34/50\n",
      "455/455 [==============================] - 0s 245us/sample - loss: 0.0726 - accuracy: 0.9736 - val_loss: 0.0669 - val_accuracy: 0.9649\n",
      "Epoch 35/50\n",
      "455/455 [==============================] - 0s 189us/sample - loss: 0.0600 - accuracy: 0.9846 - val_loss: 0.0653 - val_accuracy: 0.9737\n",
      "Epoch 36/50\n",
      "455/455 [==============================] - 0s 188us/sample - loss: 0.0717 - accuracy: 0.9692 - val_loss: 0.0636 - val_accuracy: 0.9737\n",
      "Epoch 37/50\n",
      "455/455 [==============================] - 0s 154us/sample - loss: 0.0770 - accuracy: 0.9736 - val_loss: 0.0629 - val_accuracy: 0.9737\n",
      "Epoch 38/50\n",
      "455/455 [==============================] - 0s 148us/sample - loss: 0.0670 - accuracy: 0.9692 - val_loss: 0.0614 - val_accuracy: 0.9825\n",
      "Epoch 39/50\n",
      "455/455 [==============================] - 0s 146us/sample - loss: 0.0696 - accuracy: 0.9736 - val_loss: 0.0594 - val_accuracy: 0.9825\n",
      "Epoch 40/50\n",
      "455/455 [==============================] - 0s 129us/sample - loss: 0.0766 - accuracy: 0.9670 - val_loss: 0.0582 - val_accuracy: 0.9825\n",
      "Epoch 41/50\n",
      "455/455 [==============================] - 0s 126us/sample - loss: 0.0705 - accuracy: 0.9714 - val_loss: 0.0585 - val_accuracy: 0.9825\n",
      "Epoch 42/50\n",
      "455/455 [==============================] - 0s 120us/sample - loss: 0.0539 - accuracy: 0.9824 - val_loss: 0.0606 - val_accuracy: 0.9825\n",
      "Epoch 43/50\n",
      "455/455 [==============================] - 0s 130us/sample - loss: 0.0635 - accuracy: 0.9758 - val_loss: 0.0603 - val_accuracy: 0.9825\n",
      "Epoch 44/50\n",
      "455/455 [==============================] - 0s 127us/sample - loss: 0.0601 - accuracy: 0.9802 - val_loss: 0.0606 - val_accuracy: 0.9825\n",
      "Epoch 45/50\n",
      "455/455 [==============================] - 0s 142us/sample - loss: 0.0557 - accuracy: 0.9802 - val_loss: 0.0605 - val_accuracy: 0.9825\n",
      "Epoch 46/50\n",
      "455/455 [==============================] - 0s 175us/sample - loss: 0.0782 - accuracy: 0.9758 - val_loss: 0.0603 - val_accuracy: 0.9825\n",
      "Epoch 47/50\n",
      "455/455 [==============================] - 0s 176us/sample - loss: 0.0558 - accuracy: 0.9824 - val_loss: 0.0589 - val_accuracy: 0.9825\n",
      "Epoch 48/50\n",
      "455/455 [==============================] - 0s 192us/sample - loss: 0.0688 - accuracy: 0.9780 - val_loss: 0.0599 - val_accuracy: 0.9825\n",
      "Epoch 49/50\n",
      "455/455 [==============================] - 0s 161us/sample - loss: 0.0515 - accuracy: 0.9868 - val_loss: 0.0616 - val_accuracy: 0.9825\n",
      "Epoch 50/50\n",
      "455/455 [==============================] - 0s 143us/sample - loss: 0.0523 - accuracy: 0.9846 - val_loss: 0.0615 - val_accuracy: 0.9825\n"
     ]
    }
   ],
   "source": [
    "history =  model.fit(x_train, y_train, epochs=50, validation_data=(x_test, y_test))"
   ]
  },
  {
   "cell_type": "markdown",
   "metadata": {
    "colab_type": "text",
    "id": "bTbu2usVp82d"
   },
   "source": [
    "# Step 5: Model Prediction"
   ]
  },
  {
   "cell_type": "code",
   "execution_count": 32,
   "metadata": {
    "colab": {},
    "colab_type": "code",
    "id": "xExs4qhLp_t2"
   },
   "outputs": [],
   "source": [
    "y_pred = model.predict_classes(x_test)"
   ]
  },
  {
   "cell_type": "code",
   "execution_count": 33,
   "metadata": {
    "colab": {
     "base_uri": "https://localhost:8080/",
     "height": 70
    },
    "colab_type": "code",
    "executionInfo": {
     "elapsed": 1133,
     "status": "ok",
     "timestamp": 1574502480360,
     "user": {
      "displayName": "Vijay Gadhave",
      "photoUrl": "https://lh3.googleusercontent.com/a-/AAuE7mCiskVUXETaua8br1GrYe6A5iN3sI80G5Xl2S7LGg=s64",
      "userId": "02099433176152859365"
     },
     "user_tz": -330
    },
    "id": "WIXY-w3VqGG7",
    "outputId": "331741bc-4f83-4399-8e2f-fc2f9d221773"
   },
   "outputs": [
    {
     "name": "stdout",
     "output_type": "stream",
     "text": [
      "[1]\n",
      "1\n"
     ]
    },
    {
     "data": {
      "text/plain": [
       "(None, None)"
      ]
     },
     "execution_count": 33,
     "metadata": {},
     "output_type": "execute_result"
    }
   ],
   "source": [
    "print(y_pred[12]), print(y_test[12])"
   ]
  },
  {
   "cell_type": "code",
   "execution_count": 34,
   "metadata": {
    "colab": {
     "base_uri": "https://localhost:8080/",
     "height": 34
    },
    "colab_type": "code",
    "executionInfo": {
     "elapsed": 1096,
     "status": "ok",
     "timestamp": 1574502532871,
     "user": {
      "displayName": "Vijay Gadhave",
      "photoUrl": "https://lh3.googleusercontent.com/a-/AAuE7mCiskVUXETaua8br1GrYe6A5iN3sI80G5Xl2S7LGg=s64",
      "userId": "02099433176152859365"
     },
     "user_tz": -330
    },
    "id": "qmxh0d9GqeZF",
    "outputId": "6f544037-03e0-44af-a805-57b301e884b3"
   },
   "outputs": [
    {
     "data": {
      "text/plain": [
       "array(['malignant', 'benign'], dtype='<U9')"
      ]
     },
     "execution_count": 34,
     "metadata": {},
     "output_type": "execute_result"
    }
   ],
   "source": [
    "cancer.target_names"
   ]
  },
  {
   "cell_type": "code",
   "execution_count": 35,
   "metadata": {
    "colab": {
     "base_uri": "https://localhost:8080/",
     "height": 52
    },
    "colab_type": "code",
    "executionInfo": {
     "elapsed": 1127,
     "status": "ok",
     "timestamp": 1574502639749,
     "user": {
      "displayName": "Vijay Gadhave",
      "photoUrl": "https://lh3.googleusercontent.com/a-/AAuE7mCiskVUXETaua8br1GrYe6A5iN3sI80G5Xl2S7LGg=s64",
      "userId": "02099433176152859365"
     },
     "user_tz": -330
    },
    "id": "oBfs8YhxqoaT",
    "outputId": "67f04a17-72ae-47f2-8dd7-9e845c98498f"
   },
   "outputs": [
    {
     "name": "stdout",
     "output_type": "stream",
     "text": [
      "[[46  1]\n",
      " [ 1 66]]\n"
     ]
    }
   ],
   "source": [
    "# confusion matrix\n",
    "from sklearn.metrics import confusion_matrix, accuracy_score\n",
    "cm = confusion_matrix(y_test, y_pred)\n",
    "print(cm)"
   ]
  },
  {
   "cell_type": "code",
   "execution_count": 36,
   "metadata": {
    "colab": {
     "base_uri": "https://localhost:8080/",
     "height": 34
    },
    "colab_type": "code",
    "executionInfo": {
     "elapsed": 1090,
     "status": "ok",
     "timestamp": 1574502701905,
     "user": {
      "displayName": "Vijay Gadhave",
      "photoUrl": "https://lh3.googleusercontent.com/a-/AAuE7mCiskVUXETaua8br1GrYe6A5iN3sI80G5Xl2S7LGg=s64",
      "userId": "02099433176152859365"
     },
     "user_tz": -330
    },
    "id": "I2UVJTIkq_Vb",
    "outputId": "50670beb-a027-46af-9150-8175323f6ce8"
   },
   "outputs": [
    {
     "name": "stdout",
     "output_type": "stream",
     "text": [
      "0.9824561403508771\n"
     ]
    }
   ],
   "source": [
    "acc_cm = accuracy_score(y_test, y_pred)\n",
    "print(acc_cm)"
   ]
  },
  {
   "cell_type": "markdown",
   "metadata": {
    "colab_type": "text",
    "id": "6IwcFfwwrhez"
   },
   "source": [
    "# Stpe 6: Learning curve"
   ]
  },
  {
   "cell_type": "code",
   "execution_count": 37,
   "metadata": {
    "colab": {},
    "colab_type": "code",
    "id": "ZESGUHumrkzy"
   },
   "outputs": [],
   "source": [
    "def learning_curve(history, epoch):\n",
    "\n",
    "  # training vs validation accuracy\n",
    "  epoch_range = range(1, epoch+1)\n",
    "  plt.plot(epoch_range, history.history['accuracy'])\n",
    "  plt.plot(epoch_range, history.history['val_accuracy'])\n",
    "  plt.title('Model Accuracy')\n",
    "  plt.ylabel('Accuracy')\n",
    "  plt.xlabel('Epoch')\n",
    "  plt.legend(['Train', 'val'], loc='upper left')\n",
    "  plt.show()\n",
    "\n",
    "  # training vs validation loss\n",
    "  plt.plot(epoch_range, history.history['loss'])\n",
    "  plt.plot(epoch_range, history.history['val_loss'])\n",
    "  plt.title('Model Loss')\n",
    "  plt.ylabel('Loss')\n",
    "  plt.xlabel('Epoch')\n",
    "  plt.legend(['Train', 'val'], loc='upper left')\n",
    "  plt.show()"
   ]
  },
  {
   "cell_type": "code",
   "execution_count": 38,
   "metadata": {
    "colab": {
     "base_uri": "https://localhost:8080/",
     "height": 573
    },
    "colab_type": "code",
    "executionInfo": {
     "elapsed": 1749,
     "status": "ok",
     "timestamp": 1574502897505,
     "user": {
      "displayName": "Vijay Gadhave",
      "photoUrl": "https://lh3.googleusercontent.com/a-/AAuE7mCiskVUXETaua8br1GrYe6A5iN3sI80G5Xl2S7LGg=s64",
      "userId": "02099433176152859365"
     },
     "user_tz": -330
    },
    "id": "UsPtTcKVrzMi",
    "outputId": "6271c1df-2d46-43af-baa0-3fe678e32cf5"
   },
   "outputs": [
    {
     "data": {
      "image/png": "[encoded data removed]",
      "text/plain": [
       "<Figure size 432x288 with 1 Axes>"
      ]
     },
     "metadata": {
      "needs_background": "light"
     },
     "output_type": "display_data"
    },
    {
     "data": {
      "image/png": "[encoded data removed]",
      "text/plain": [
       "<Figure size 432x288 with 1 Axes>"
      ]
     },
     "metadata": {
      "needs_background": "light"
     },
     "output_type": "display_data"
    }
   ],
   "source": [
    "learning_curve(history, 50)"
   ]
  },
  {
   "cell_type": "code",
   "execution_count": null,
   "metadata": {},
   "outputs": [],
   "source": []
  },
  {
   "cell_type": "code",
   "execution_count": null,
   "metadata": {},
   "outputs": [],
   "source": []
  },
  {
   "cell_type": "code",
   "execution_count": null,
   "metadata": {},
   "outputs": [],
   "source": []
  }
 ],
 "metadata": {
  "colab": {
   "collapsed_sections": [],
   "name": "Project 6: Breast Cancer Detection with CNN.ipynb",
   "provenance": [],
   "toc_visible": true
  },
  "kernelspec": {
   "display_name": "Python 3",
   "language": "python",
   "name": "python3"
  },
  "language_info": {
   "codemirror_mode": {
    "name": "ipython",
    "version": 3
   },
   "file_extension": ".py",
   "mimetype": "text/x-python",
   "name": "python",
   "nbconvert_exporter": "python",
   "pygments_lexer": "ipython3",
   "version": "3.8.5"
  }
 },
 "nbformat": 4,
 "nbformat_minor": 1
}
