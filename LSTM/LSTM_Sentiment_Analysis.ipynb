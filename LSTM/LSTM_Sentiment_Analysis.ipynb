{
 "cells": [
  {
   "cell_type": "code",
   "execution_count": 1,
   "metadata": {},
   "outputs": [],
   "source": [
    "import tensorflow as tf\n",
    "import numpy as np\n",
    "import pandas as pd\n",
    "import re\n",
    "import keras\n",
    "from keras import Model\n",
    "from tensorflow.keras.layers import Flatten,LSTM, Dense, Flatten, Embedding\n",
    "from tensorflow.keras.preprocessing.sequence import pad_sequences\n",
    "from tensorflow.keras.utils import to_categorical\n",
    "from tensorflow.keras.models import Sequential\n",
    "from keras_preprocessing.text import Tokenizer\n",
    "from keras.initializers import glorot_uniform\n",
    "from sklearn import model_selection\n"
   ]
  },
  {
   "cell_type": "code",
   "execution_count": 4,
   "metadata": {},
   "outputs": [],
   "source": [
    "#Read in data\n",
    "with open('/Users/saurmoha/Downloads/archive-3/train.csv', 'r') as file:\n",
    "    text = file.readlines()"
   ]
  },
  {
   "cell_type": "code",
   "execution_count": 5,
   "metadata": {},
   "outputs": [],
   "source": [
    "#create empty dataframe\n",
    "x_train = pd.DataFrame()"
   ]
  },
  {
   "cell_type": "code",
   "execution_count": 6,
   "metadata": {},
   "outputs": [],
   "source": [
    "# fill in dataframe\n",
    "word=[]\n",
    "label=[]\n",
    "for n in text:\n",
    "    n=n.split()\n",
    "    label.append(1) if n[0] ==\"__label__2\" else label.append(0)\n",
    "    word.append(\" \".join(n[1:]))\n",
    "x_train['consumer_review'] = word\n",
    "x_train['polarity_label'] = label"
   ]
  },
  {
   "cell_type": "code",
   "execution_count": 7,
   "metadata": {},
   "outputs": [
    {
     "data": {
      "text/html": [
       "<div>\n",
       "<style scoped>\n",
       "    .dataframe tbody tr th:only-of-type {\n",
       "        vertical-align: middle;\n",
       "    }\n",
       "\n",
       "    .dataframe tbody tr th {\n",
       "        vertical-align: top;\n",
       "    }\n",
       "\n",
       "    .dataframe thead th {\n",
       "        text-align: right;\n",
       "    }\n",
       "</style>\n",
       "<table border=\"1\" class=\"dataframe\">\n",
       "  <thead>\n",
       "    <tr style=\"text-align: right;\">\n",
       "      <th></th>\n",
       "      <th>consumer_review</th>\n",
       "      <th>polarity_label</th>\n",
       "    </tr>\n",
       "  </thead>\n",
       "  <tbody>\n",
       "    <tr>\n",
       "      <th>0</th>\n",
       "      <td>Stuning even for the non-gamer: This sound tra...</td>\n",
       "      <td>1</td>\n",
       "    </tr>\n",
       "    <tr>\n",
       "      <th>1</th>\n",
       "      <td>The best soundtrack ever to anything.: I'm rea...</td>\n",
       "      <td>1</td>\n",
       "    </tr>\n",
       "    <tr>\n",
       "      <th>2</th>\n",
       "      <td>Amazing!: This soundtrack is my favorite music...</td>\n",
       "      <td>1</td>\n",
       "    </tr>\n",
       "    <tr>\n",
       "      <th>3</th>\n",
       "      <td>Excellent Soundtrack: I truly like this soundt...</td>\n",
       "      <td>1</td>\n",
       "    </tr>\n",
       "    <tr>\n",
       "      <th>4</th>\n",
       "      <td>Remember, Pull Your Jaw Off The Floor After He...</td>\n",
       "      <td>1</td>\n",
       "    </tr>\n",
       "    <tr>\n",
       "      <th>...</th>\n",
       "      <td>...</td>\n",
       "      <td>...</td>\n",
       "    </tr>\n",
       "    <tr>\n",
       "      <th>3599995</th>\n",
       "      <td>Don't do it!!: The high chair looks great when...</td>\n",
       "      <td>0</td>\n",
       "    </tr>\n",
       "    <tr>\n",
       "      <th>3599996</th>\n",
       "      <td>Looks nice, low functionality: I have used thi...</td>\n",
       "      <td>0</td>\n",
       "    </tr>\n",
       "    <tr>\n",
       "      <th>3599997</th>\n",
       "      <td>compact, but hard to clean: We have a small ho...</td>\n",
       "      <td>0</td>\n",
       "    </tr>\n",
       "    <tr>\n",
       "      <th>3599998</th>\n",
       "      <td>what is it saying?: not sure what this book is...</td>\n",
       "      <td>0</td>\n",
       "    </tr>\n",
       "    <tr>\n",
       "      <th>3599999</th>\n",
       "      <td>Makes My Blood Run Red-White-And-Blue: I agree...</td>\n",
       "      <td>1</td>\n",
       "    </tr>\n",
       "  </tbody>\n",
       "</table>\n",
       "<p>3600000 rows × 2 columns</p>\n",
       "</div>"
      ],
      "text/plain": [
       "                                           consumer_review  polarity_label\n",
       "0        Stuning even for the non-gamer: This sound tra...               1\n",
       "1        The best soundtrack ever to anything.: I'm rea...               1\n",
       "2        Amazing!: This soundtrack is my favorite music...               1\n",
       "3        Excellent Soundtrack: I truly like this soundt...               1\n",
       "4        Remember, Pull Your Jaw Off The Floor After He...               1\n",
       "...                                                    ...             ...\n",
       "3599995  Don't do it!!: The high chair looks great when...               0\n",
       "3599996  Looks nice, low functionality: I have used thi...               0\n",
       "3599997  compact, but hard to clean: We have a small ho...               0\n",
       "3599998  what is it saying?: not sure what this book is...               0\n",
       "3599999  Makes My Blood Run Red-White-And-Blue: I agree...               1\n",
       "\n",
       "[3600000 rows x 2 columns]"
      ]
     },
     "execution_count": 7,
     "metadata": {},
     "output_type": "execute_result"
    }
   ],
   "source": [
    "#view dataframe\n",
    "x_train"
   ]
  },
  {
   "cell_type": "code",
   "execution_count": 8,
   "metadata": {},
   "outputs": [],
   "source": [
    "_, x_set,_, y_set = \\\n",
    "    model_selection.train_test_split(x_train['consumer_review'], \n",
    "                                     x_train['polarity_label'], test_size=0.02)"
   ]
  },
  {
   "cell_type": "code",
   "execution_count": 9,
   "metadata": {},
   "outputs": [],
   "source": [
    "#data cleaning function\n",
    "def data_prep(in_tex):\n",
    "    # Remove punctuations and numbers\n",
    "    out_tex = re.sub('[^a-zA-Z]', ' ', in_tex)\n",
    "    # Convert upper case to lower case\n",
    "    out_tex=\"\".join(list(map(lambda x:x.lower(),out_tex)))\n",
    "    # Remove single character\n",
    "    out_tex= re.sub(r\"\\s+[a-zA-Z]\\s+\", ' ', out_tex)\n",
    "    return out_tex"
   ]
  },
  {
   "cell_type": "code",
   "execution_count": 10,
   "metadata": {},
   "outputs": [],
   "source": [
    "#create new list with clean data\n",
    "text_set=[]\n",
    "for reviews in list(x_set):\n",
    "    text_set.append(data_prep(reviews))"
   ]
  },
  {
   "cell_type": "code",
   "execution_count": 11,
   "metadata": {},
   "outputs": [],
   "source": [
    "x_train= pd.DataFrame()\n",
    "x_train['consumer_review'] = text_set\n",
    "x_train['polarity_label'] = list(y_set)\n"
   ]
  },
  {
   "cell_type": "code",
   "execution_count": 12,
   "metadata": {},
   "outputs": [],
   "source": [
    "#split data into 70% train and 30% test\n",
    "x_train, x_test, y_train, y_test = \\\n",
    "    model_selection.train_test_split(x_train['consumer_review'], \n",
    "                                     x_train['polarity_label'], test_size=0.30)"
   ]
  },
  {
   "cell_type": "code",
   "execution_count": 13,
   "metadata": {},
   "outputs": [],
   "source": [
    "#convert to array\n",
    "x_train=np.array(x_train.values.tolist())\n",
    "x_test=np.array(x_test.values.tolist())\n",
    "y_train=np.array(y_train.values.tolist())\n",
    "y_test=np.array(y_test.values.tolist())"
   ]
  },
  {
   "cell_type": "code",
   "execution_count": 14,
   "metadata": {},
   "outputs": [],
   "source": [
    "#tokenizer\n",
    "tokenizer = Tokenizer()\n",
    "tokenizer.fit_on_texts(x_train)\n",
    "word_index=tokenizer.word_index\n",
    "total_size = len(word_index)+1"
   ]
  },
  {
   "cell_type": "code",
   "execution_count": 15,
   "metadata": {},
   "outputs": [
    {
     "name": "stdout",
     "output_type": "stream",
     "text": [
      "77547\n"
     ]
    }
   ],
   "source": [
    "print(total_size)"
   ]
  },
  {
   "cell_type": "code",
   "execution_count": 16,
   "metadata": {},
   "outputs": [],
   "source": [
    "#text to sequence\n",
    "x_train = tokenizer.texts_to_sequences(x_train)\n",
    "x_test = tokenizer.texts_to_sequences(x_test)"
   ]
  },
  {
   "cell_type": "code",
   "execution_count": 17,
   "metadata": {},
   "outputs": [],
   "source": [
    "#add padding to ensure the same length\n",
    "max_length = 100\n",
    "x_train = pad_sequences(x_train, padding='post', maxlen=max_length)\n",
    "x_test = pad_sequences(x_test, padding='post', maxlen=max_length)\n"
   ]
  },
  {
   "cell_type": "code",
   "execution_count": 18,
   "metadata": {},
   "outputs": [],
   "source": [
    "#Create Model\n",
    "model = Sequential()\n",
    "model.add(Embedding(total_size, 20, input_length=max_length))\n",
    "model.add(LSTM(32,dropout=0.2, recurrent_dropout=0.2))\n",
    "model.add(Dense(1, activation='sigmoid'))\n"
   ]
  },
  {
   "cell_type": "code",
   "execution_count": 19,
   "metadata": {},
   "outputs": [
    {
     "name": "stdout",
     "output_type": "stream",
     "text": [
      "Model: \"sequential\"\n",
      "_________________________________________________________________\n",
      "Layer (type)                 Output Shape              Param #   \n",
      "=================================================================\n",
      "embedding (Embedding)        (None, 100, 20)           1550940   \n",
      "_________________________________________________________________\n",
      "lstm (LSTM)                  (None, 32)                6784      \n",
      "_________________________________________________________________\n",
      "dense (Dense)                (None, 1)                 33        \n",
      "=================================================================\n",
      "Total params: 1,557,757\n",
      "Trainable params: 1,557,757\n",
      "Non-trainable params: 0\n",
      "_________________________________________________________________\n",
      "None\n"
     ]
    }
   ],
   "source": [
    "#compile\n",
    "model.compile(optimizer='adam', loss='binary_crossentropy', metrics=['acc'])\n",
    "print(model.summary())"
   ]
  },
  {
   "cell_type": "code",
   "execution_count": 20,
   "metadata": {},
   "outputs": [
    {
     "name": "stdout",
     "output_type": "stream",
     "text": [
      "Epoch 1/5\n",
      "394/394 [==============================] - 40s 95ms/step - loss: 0.6641 - acc: 0.5779 - val_loss: 0.5843 - val_acc: 0.6923\n",
      "Epoch 2/5\n",
      "394/394 [==============================] - 38s 96ms/step - loss: 0.5867 - acc: 0.6967 - val_loss: 0.5557 - val_acc: 0.7412\n",
      "Epoch 3/5\n",
      "394/394 [==============================] - 59s 149ms/step - loss: 0.5492 - acc: 0.7550 - val_loss: 0.6102 - val_acc: 0.7260\n",
      "Epoch 4/5\n",
      "394/394 [==============================] - 60s 152ms/step - loss: 0.5567 - acc: 0.7425 - val_loss: 0.5527 - val_acc: 0.7470\n",
      "Epoch 5/5\n",
      "394/394 [==============================] - 52s 132ms/step - loss: 0.5180 - acc: 0.7767 - val_loss: 0.4504 - val_acc: 0.8154\n"
     ]
    },
    {
     "data": {
      "text/plain": [
       "<tensorflow.python.keras.callbacks.History at 0x1a7d29520>"
      ]
     },
     "execution_count": 20,
     "metadata": {},
     "output_type": "execute_result"
    }
   ],
   "source": [
    "model.fit(x_train, y_train, batch_size=128, epochs=5, verbose=1, validation_data=(x_test, y_test))"
   ]
  },
  {
   "cell_type": "code",
   "execution_count": 21,
   "metadata": {},
   "outputs": [],
   "source": [
    "model.save(\"model.h5\")"
   ]
  },
  {
   "cell_type": "code",
   "execution_count": 22,
   "metadata": {},
   "outputs": [],
   "source": [
    "model = keras.models.load_model(\"model.h5\")"
   ]
  },
  {
   "cell_type": "code",
   "execution_count": null,
   "metadata": {},
   "outputs": [],
   "source": []
  }
 ],
 "metadata": {
  "kernelspec": {
   "display_name": "Python 3",
   "language": "python",
   "name": "python3"
  },
  "language_info": {
   "codemirror_mode": {
    "name": "ipython",
    "version": 3
   },
   "file_extension": ".py",
   "mimetype": "text/x-python",
   "name": "python",
   "nbconvert_exporter": "python",
   "pygments_lexer": "ipython3",
   "version": "3.8.5"
  }
 },
 "nbformat": 4,
 "nbformat_minor": 4
}
