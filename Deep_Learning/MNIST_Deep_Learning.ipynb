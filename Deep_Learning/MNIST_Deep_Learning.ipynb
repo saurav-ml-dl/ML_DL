{
 "cells": [
  {
   "cell_type": "code",
   "execution_count": 30,
   "metadata": {},
   "outputs": [],
   "source": [
    "import tensorflow as tf\n",
    " \n",
    "import pandas as pd\n",
    "\n",
    "import matplotlib.pyplot as plt\n",
    "%matplotlib inline\n",
    " \n",
    "# Import Keras libraries\n",
    "from tensorflow.keras.models import Sequential\n",
    "from tensorflow.keras.layers import Dense\n",
    "from tensorflow.keras.layers import Flatten\n",
    "\n",
    "from pandas import get_dummies"
   ]
  },
  {
   "cell_type": "code",
   "execution_count": 31,
   "metadata": {},
   "outputs": [],
   "source": [
    "mnist = tf.keras.datasets.mnist\n",
    "(train_features,train_labels), (test_features,test_labels) = mnist.load_data()"
   ]
  },
  {
   "cell_type": "code",
   "execution_count": 32,
   "metadata": {},
   "outputs": [],
   "source": [
    "train_features, test_features = train_features / 255.0, test_features / 255.0"
   ]
  },
  {
   "cell_type": "code",
   "execution_count": 34,
   "metadata": {},
   "outputs": [],
   "source": [
    "model = Sequential()\n",
    "model.add(Flatten(input_shape=(28,28)))\n",
    "model.add(Dense(units = 50, activation = 'relu'))\n",
    "model.add(Dense(units = 20 , activation = 'relu'))\n",
    "model.add(Dense(units = 10, activation = 'softmax'))"
   ]
  },
  {
   "cell_type": "code",
   "execution_count": 35,
   "metadata": {},
   "outputs": [],
   "source": [
    "model.compile(optimizer='adam', loss = 'sparse_categorical_crossentropy', metrics=['accuracy'])"
   ]
  },
  {
   "cell_type": "code",
   "execution_count": 36,
   "metadata": {},
   "outputs": [
    {
     "name": "stdout",
     "output_type": "stream",
     "text": [
      "Model: \"sequential_3\"\n",
      "_________________________________________________________________\n",
      "Layer (type)                 Output Shape              Param #   \n",
      "=================================================================\n",
      "flatten_2 (Flatten)          (None, 784)               0         \n",
      "_________________________________________________________________\n",
      "dense_9 (Dense)              (None, 50)                39250     \n",
      "_________________________________________________________________\n",
      "dense_10 (Dense)             (None, 20)                1020      \n",
      "_________________________________________________________________\n",
      "dense_11 (Dense)             (None, 10)                210       \n",
      "=================================================================\n",
      "Total params: 40,480\n",
      "Trainable params: 40,480\n",
      "Non-trainable params: 0\n",
      "_________________________________________________________________\n"
     ]
    }
   ],
   "source": [
    "model.summary()"
   ]
  },
  {
   "cell_type": "code",
   "execution_count": 39,
   "metadata": {},
   "outputs": [
    {
     "name": "stdout",
     "output_type": "stream",
     "text": [
      "Train on 60000 samples\n",
      "Epoch 1/50\n",
      "60000/60000 [==============================] - 3s 58us/sample - loss: 0.3271 - accuracy: 0.9064\n",
      "Epoch 2/50\n",
      "60000/60000 [==============================] - 3s 49us/sample - loss: 0.1521 - accuracy: 0.9553s - loss: 0.153\n",
      "Epoch 3/50\n",
      "60000/60000 [==============================] - 3s 52us/sample - loss: 0.1130 - accuracy: 0.9660\n",
      "Epoch 4/50\n",
      "60000/60000 [==============================] - 4s 72us/sample - loss: 0.0925 - accuracy: 0.9717\n",
      "Epoch 5/50\n",
      "60000/60000 [==============================] - 3s 52us/sample - loss: 0.0779 - accuracy: 0.9761\n",
      "Epoch 6/50\n",
      "60000/60000 [==============================] - 3s 49us/sample - loss: 0.0672 - accuracy: 0.9789\n",
      "Epoch 7/50\n",
      "60000/60000 [==============================] - 4s 64us/sample - loss: 0.0589 - accuracy: 0.9814\n",
      "Epoch 8/50\n",
      "60000/60000 [==============================] - 3s 50us/sample - loss: 0.0520 - accuracy: 0.9844\n",
      "Epoch 9/50\n",
      "60000/60000 [==============================] - 3s 53us/sample - loss: 0.0466 - accuracy: 0.9851\n",
      "Epoch 10/50\n",
      "60000/60000 [==============================] - 4s 62us/sample - loss: 0.0408 - accuracy: 0.9868\n",
      "Epoch 11/50\n",
      "60000/60000 [==============================] - 3s 47us/sample - loss: 0.0378 - accuracy: 0.9882\n",
      "Epoch 12/50\n",
      "60000/60000 [==============================] - 4s 63us/sample - loss: 0.0349 - accuracy: 0.9889\n",
      "Epoch 13/50\n",
      "60000/60000 [==============================] - 3s 55us/sample - loss: 0.0310 - accuracy: 0.9899s - los\n",
      "Epoch 14/50\n",
      "60000/60000 [==============================] - 3s 53us/sample - loss: 0.0272 - accuracy: 0.9911\n",
      "Epoch 15/50\n",
      "60000/60000 [==============================] - 4s 67us/sample - loss: 0.0272 - accuracy: 0.9910\n",
      "Epoch 16/50\n",
      "60000/60000 [==============================] - 3s 46us/sample - loss: 0.0242 - accuracy: 0.9918s - loss: - E\n",
      "Epoch 17/50\n",
      "60000/60000 [==============================] - 3s 44us/sample - loss: 0.0224 - accuracy: 0.9928s - loss: 0.0196 - accuracy - ETA: 1s - loss: 0.0212 - accu - ETA: 0s\n",
      "Epoch 18/50\n",
      "60000/60000 [==============================] - 3s 52us/sample - loss: 0.0191 - accuracy: 0.9937s - loss: 0.0187 - accuracy: \n",
      "Epoch 19/50\n",
      "60000/60000 [==============================] - ETA: 0s - loss: 0.0202 - accuracy: 0.99 - 4s 63us/sample - loss: 0.0204 - accuracy: 0.9933\n",
      "Epoch 20/50\n",
      "60000/60000 [==============================] - 5s 79us/sample - loss: 0.0171 - accuracy: 0.9943\n",
      "Epoch 21/50\n",
      "60000/60000 [==============================] - 3s 56us/sample - loss: 0.0175 - accuracy: 0.9938\n",
      "Epoch 22/50\n",
      "60000/60000 [==============================] - 3s 57us/sample - loss: 0.0155 - accuracy: 0.9946\n",
      "Epoch 23/50\n",
      "60000/60000 [==============================] - 4s 62us/sample - loss: 0.0149 - accuracy: 0.9948\n",
      "Epoch 24/50\n",
      "60000/60000 [==============================] - 4s 69us/sample - loss: 0.0144 - accuracy: 0.9952\n",
      "Epoch 25/50\n",
      "60000/60000 [==============================] - 3s 55us/sample - loss: 0.0144 - accuracy: 0.9949s - loss: 0.0130 \n",
      "Epoch 26/50\n",
      "60000/60000 [==============================] - 3s 51us/sample - loss: 0.0134 - accuracy: 0.9955\n",
      "Epoch 27/50\n",
      "60000/60000 [==============================] - 4s 62us/sample - loss: 0.0120 - accuracy: 0.9961\n",
      "Epoch 28/50\n",
      "60000/60000 [==============================] - 3s 48us/sample - loss: 0.0105 - accuracy: 0.9963\n",
      "Epoch 29/50\n",
      "60000/60000 [==============================] - 3s 43us/sample - loss: 0.0119 - accuracy: 0.9960\n",
      "Epoch 30/50\n",
      "60000/60000 [==============================] - 3s 54us/sample - loss: 0.0108 - accuracy: 0.9964\n",
      "Epoch 31/50\n",
      "60000/60000 [==============================] - 3s 55us/sample - loss: 0.0104 - accuracy: 0.9962\n",
      "Epoch 32/50\n",
      "60000/60000 [==============================] - 3s 48us/sample - loss: 0.0112 - accuracy: 0.9964\n",
      "Epoch 33/50\n",
      "60000/60000 [==============================] - 3s 52us/sample - loss: 0.0113 - accuracy: 0.9963\n",
      "Epoch 34/50\n",
      "60000/60000 [==============================] - 4s 61us/sample - loss: 0.0086 - accuracy: 0.9973s -\n",
      "Epoch 35/50\n",
      "60000/60000 [==============================] - 4s 62us/sample - loss: 0.0095 - accuracy: 0.9969s - loss:\n",
      "Epoch 36/50\n",
      "60000/60000 [==============================] - 3s 51us/sample - loss: 0.0109 - accuracy: 0.9964\n",
      "Epoch 37/50\n",
      "60000/60000 [==============================] - 3s 51us/sample - loss: 0.0080 - accuracy: 0.9972s - los\n",
      "Epoch 38/50\n",
      "60000/60000 [==============================] - 3s 52us/sample - loss: 0.0098 - accuracy: 0.9965\n",
      "Epoch 39/50\n",
      "60000/60000 [==============================] - 4s 64us/sample - loss: 0.0097 - accuracy: 0.9968s - loss: 0 - ETA: 0s - loss: 0.0088 - \n",
      "Epoch 40/50\n",
      "60000/60000 [==============================] - 3s 54us/sample - loss: 0.0071 - accuracy: 0.9976\n",
      "Epoch 41/50\n",
      "60000/60000 [==============================] - 5s 81us/sample - loss: 0.0091 - accuracy: 0.9973\n",
      "Epoch 42/50\n",
      "60000/60000 [==============================] - 4s 72us/sample - loss: 0.0081 - accuracy: 0.9975\n",
      "Epoch 43/50\n",
      "60000/60000 [==============================] - 4s 74us/sample - loss: 0.0100 - accuracy: 0.9966\n",
      "Epoch 44/50\n",
      "60000/60000 [==============================] - 4s 69us/sample - loss: 0.0087 - accuracy: 0.9971\n",
      "Epoch 45/50\n",
      "60000/60000 [==============================] - 4s 60us/sample - loss: 0.0089 - accuracy: 0.9971\n",
      "Epoch 46/50\n",
      "60000/60000 [==============================] - 3s 54us/sample - loss: 0.0069 - accuracy: 0.9976\n",
      "Epoch 47/50\n",
      "60000/60000 [==============================] - 3s 55us/sample - loss: 0.0075 - accuracy: 0.9978\n",
      "Epoch 48/50\n",
      "60000/60000 [==============================] - 4s 71us/sample - loss: 0.0086 - accuracy: 0.9973\n",
      "Epoch 49/50\n",
      "60000/60000 [==============================] - 4s 64us/sample - loss: 0.0077 - accuracy: 0.9974\n",
      "Epoch 50/50\n",
      "60000/60000 [==============================] - 4s 59us/sample - loss: 0.0050 - accuracy: 0.9984\n"
     ]
    },
    {
     "data": {
      "text/plain": [
       "<tensorflow.python.keras.callbacks.History at 0x667c4f210>"
      ]
     },
     "execution_count": 39,
     "metadata": {},
     "output_type": "execute_result"
    }
   ],
   "source": [
    "model.fit(train_features, train_labels, epochs=50)"
   ]
  },
  {
   "cell_type": "code",
   "execution_count": 40,
   "metadata": {},
   "outputs": [
    {
     "name": "stdout",
     "output_type": "stream",
     "text": [
      "10000/10000 [==============================] - 1s 76us/sample - loss: 0.2072 - accuracy: 0.9718\n"
     ]
    },
    {
     "data": {
      "text/plain": [
       "[0.20719025060918111, 0.9718]"
      ]
     },
     "execution_count": 40,
     "metadata": {},
     "output_type": "execute_result"
    }
   ],
   "source": [
    "model.evaluate(test_features, test_labels)"
   ]
  },
  {
   "cell_type": "code",
   "execution_count": 41,
   "metadata": {},
   "outputs": [],
   "source": [
    "loc = 200\n",
    "test_image = test_features[loc]"
   ]
  },
  {
   "cell_type": "code",
   "execution_count": 42,
   "metadata": {},
   "outputs": [
    {
     "data": {
      "text/plain": [
       "(28, 28)"
      ]
     },
     "execution_count": 42,
     "metadata": {},
     "output_type": "execute_result"
    }
   ],
   "source": [
    "test_image.shape"
   ]
  },
  {
   "cell_type": "code",
   "execution_count": 43,
   "metadata": {},
   "outputs": [],
   "source": [
    "test_image = test_image.reshape(1,28,28)"
   ]
  },
  {
   "cell_type": "code",
   "execution_count": 46,
   "metadata": {},
   "outputs": [
    {
     "name": "stdout",
     "output_type": "stream",
     "text": [
      "[[2.9072076e-28 2.1215850e-29 1.7854708e-21 1.0000000e+00 0.0000000e+00\n",
      "  1.2384960e-15 1.2660366e-34 1.7712217e-32 1.7461657e-08 9.6417470e-29]]\n"
     ]
    }
   ],
   "source": [
    "result = model.predict(test_image)\n",
    "print(result)"
   ]
  },
  {
   "cell_type": "code",
   "execution_count": 47,
   "metadata": {},
   "outputs": [
    {
     "data": {
      "text/plain": [
       "3"
      ]
     },
     "execution_count": 47,
     "metadata": {},
     "output_type": "execute_result"
    }
   ],
   "source": [
    "result.argmax()"
   ]
  },
  {
   "cell_type": "code",
   "execution_count": 48,
   "metadata": {},
   "outputs": [
    {
     "data": {
      "text/plain": [
       "3"
      ]
     },
     "execution_count": 48,
     "metadata": {},
     "output_type": "execute_result"
    }
   ],
   "source": [
    "test_labels[loc]"
   ]
  },
  {
   "cell_type": "code",
   "execution_count": 49,
   "metadata": {},
   "outputs": [
    {
     "data": {
      "text/plain": [
       "<matplotlib.image.AxesImage at 0x667ca5d10>"
      ]
     },
     "execution_count": 49,
     "metadata": {},
     "output_type": "execute_result"
    },
    {
     "data": {
      "image/png": "[encoded data removed]",
      "text/plain": [
       "<Figure size 432x288 with 1 Axes>"
      ]
     },
     "metadata": {
      "needs_background": "light"
     },
     "output_type": "display_data"
    }
   ],
   "source": [
    "plt.imshow(test_features[loc])"
   ]
  }
 ],
 "metadata": {
  "kernelspec": {
   "display_name": "Python 3",
   "language": "python",
   "name": "python3"
  },
  "language_info": {
   "codemirror_mode": {
    "name": "ipython",
    "version": 3
   },
   "file_extension": ".py",
   "mimetype": "text/x-python",
   "name": "python",
   "nbconvert_exporter": "python",
   "pygments_lexer": "ipython3",
   "version": "3.8.5"
  }
 },
 "nbformat": 4,
 "nbformat_minor": 4
}
