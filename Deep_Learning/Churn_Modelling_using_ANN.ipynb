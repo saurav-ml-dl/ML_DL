{
 "cells": [
  {
   "cell_type": "code",
   "execution_count": 26,
   "metadata": {},
   "outputs": [],
   "source": [
    "import tensorflow as tf\n",
    "from tensorflow import keras\n",
    "import pandas as pd"
   ]
  },
  {
   "cell_type": "code",
   "execution_count": 27,
   "metadata": {},
   "outputs": [],
   "source": [
    "# Load data from Github\n",
    "data_url = '/Users/saurmoha/Desktop/Churn_Modelling.csv'\n",
    "data=pd.read_csv(data_url)"
   ]
  },
  {
   "cell_type": "code",
   "execution_count": 28,
   "metadata": {},
   "outputs": [],
   "source": [
    "# Shuffle data for taking care of patterns in data collection\n",
    "from sklearn.utils import shuffle\n",
    "data=shuffle(data) #shuffling the data\n"
   ]
  },
  {
   "cell_type": "code",
   "execution_count": 29,
   "metadata": {},
   "outputs": [
    {
     "data": {
      "text/html": [
       "<div>\n",
       "<style scoped>\n",
       "    .dataframe tbody tr th:only-of-type {\n",
       "        vertical-align: middle;\n",
       "    }\n",
       "\n",
       "    .dataframe tbody tr th {\n",
       "        vertical-align: top;\n",
       "    }\n",
       "\n",
       "    .dataframe thead th {\n",
       "        text-align: right;\n",
       "    }\n",
       "</style>\n",
       "<table border=\"1\" class=\"dataframe\">\n",
       "  <thead>\n",
       "    <tr style=\"text-align: right;\">\n",
       "      <th></th>\n",
       "      <th>RowNumber</th>\n",
       "      <th>CustomerId</th>\n",
       "      <th>Surname</th>\n",
       "      <th>CreditScore</th>\n",
       "      <th>Geography</th>\n",
       "      <th>Gender</th>\n",
       "      <th>Age</th>\n",
       "      <th>Tenure</th>\n",
       "      <th>Balance</th>\n",
       "      <th>NumOfProducts</th>\n",
       "      <th>HasCrCard</th>\n",
       "      <th>IsActiveMember</th>\n",
       "      <th>EstimatedSalary</th>\n",
       "      <th>Exited</th>\n",
       "    </tr>\n",
       "  </thead>\n",
       "  <tbody>\n",
       "    <tr>\n",
       "      <th>9374</th>\n",
       "      <td>9375</td>\n",
       "      <td>15632538</td>\n",
       "      <td>Watson</td>\n",
       "      <td>658</td>\n",
       "      <td>Spain</td>\n",
       "      <td>Female</td>\n",
       "      <td>32</td>\n",
       "      <td>5</td>\n",
       "      <td>145553.07</td>\n",
       "      <td>1</td>\n",
       "      <td>1</td>\n",
       "      <td>1</td>\n",
       "      <td>31484.76</td>\n",
       "      <td>0</td>\n",
       "    </tr>\n",
       "    <tr>\n",
       "      <th>2434</th>\n",
       "      <td>2435</td>\n",
       "      <td>15613189</td>\n",
       "      <td>Browne</td>\n",
       "      <td>774</td>\n",
       "      <td>France</td>\n",
       "      <td>Female</td>\n",
       "      <td>52</td>\n",
       "      <td>2</td>\n",
       "      <td>56580.93</td>\n",
       "      <td>1</td>\n",
       "      <td>1</td>\n",
       "      <td>0</td>\n",
       "      <td>113266.28</td>\n",
       "      <td>1</td>\n",
       "    </tr>\n",
       "    <tr>\n",
       "      <th>6669</th>\n",
       "      <td>6670</td>\n",
       "      <td>15797900</td>\n",
       "      <td>Chinomso</td>\n",
       "      <td>517</td>\n",
       "      <td>France</td>\n",
       "      <td>Male</td>\n",
       "      <td>56</td>\n",
       "      <td>9</td>\n",
       "      <td>142147.32</td>\n",
       "      <td>1</td>\n",
       "      <td>0</td>\n",
       "      <td>0</td>\n",
       "      <td>39488.04</td>\n",
       "      <td>1</td>\n",
       "    </tr>\n",
       "    <tr>\n",
       "      <th>3085</th>\n",
       "      <td>3086</td>\n",
       "      <td>15571059</td>\n",
       "      <td>Martin</td>\n",
       "      <td>734</td>\n",
       "      <td>France</td>\n",
       "      <td>Female</td>\n",
       "      <td>54</td>\n",
       "      <td>3</td>\n",
       "      <td>0.00</td>\n",
       "      <td>1</td>\n",
       "      <td>1</td>\n",
       "      <td>0</td>\n",
       "      <td>130805.54</td>\n",
       "      <td>1</td>\n",
       "    </tr>\n",
       "    <tr>\n",
       "      <th>5082</th>\n",
       "      <td>5083</td>\n",
       "      <td>15793307</td>\n",
       "      <td>Calabresi</td>\n",
       "      <td>724</td>\n",
       "      <td>Spain</td>\n",
       "      <td>Female</td>\n",
       "      <td>41</td>\n",
       "      <td>4</td>\n",
       "      <td>142880.28</td>\n",
       "      <td>3</td>\n",
       "      <td>0</td>\n",
       "      <td>0</td>\n",
       "      <td>185541.20</td>\n",
       "      <td>1</td>\n",
       "    </tr>\n",
       "    <tr>\n",
       "      <th>...</th>\n",
       "      <td>...</td>\n",
       "      <td>...</td>\n",
       "      <td>...</td>\n",
       "      <td>...</td>\n",
       "      <td>...</td>\n",
       "      <td>...</td>\n",
       "      <td>...</td>\n",
       "      <td>...</td>\n",
       "      <td>...</td>\n",
       "      <td>...</td>\n",
       "      <td>...</td>\n",
       "      <td>...</td>\n",
       "      <td>...</td>\n",
       "      <td>...</td>\n",
       "    </tr>\n",
       "    <tr>\n",
       "      <th>517</th>\n",
       "      <td>518</td>\n",
       "      <td>15781307</td>\n",
       "      <td>Schneider</td>\n",
       "      <td>779</td>\n",
       "      <td>Germany</td>\n",
       "      <td>Male</td>\n",
       "      <td>37</td>\n",
       "      <td>7</td>\n",
       "      <td>120092.52</td>\n",
       "      <td>2</td>\n",
       "      <td>1</td>\n",
       "      <td>0</td>\n",
       "      <td>135925.72</td>\n",
       "      <td>0</td>\n",
       "    </tr>\n",
       "    <tr>\n",
       "      <th>1326</th>\n",
       "      <td>1327</td>\n",
       "      <td>15682773</td>\n",
       "      <td>Hayward</td>\n",
       "      <td>781</td>\n",
       "      <td>France</td>\n",
       "      <td>Female</td>\n",
       "      <td>38</td>\n",
       "      <td>3</td>\n",
       "      <td>128345.69</td>\n",
       "      <td>2</td>\n",
       "      <td>1</td>\n",
       "      <td>0</td>\n",
       "      <td>63218.85</td>\n",
       "      <td>0</td>\n",
       "    </tr>\n",
       "    <tr>\n",
       "      <th>4440</th>\n",
       "      <td>4441</td>\n",
       "      <td>15760121</td>\n",
       "      <td>Maynard</td>\n",
       "      <td>712</td>\n",
       "      <td>France</td>\n",
       "      <td>Male</td>\n",
       "      <td>32</td>\n",
       "      <td>9</td>\n",
       "      <td>100606.02</td>\n",
       "      <td>1</td>\n",
       "      <td>1</td>\n",
       "      <td>0</td>\n",
       "      <td>165693.06</td>\n",
       "      <td>0</td>\n",
       "    </tr>\n",
       "    <tr>\n",
       "      <th>3088</th>\n",
       "      <td>3089</td>\n",
       "      <td>15730448</td>\n",
       "      <td>Iroawuchi</td>\n",
       "      <td>538</td>\n",
       "      <td>Germany</td>\n",
       "      <td>Male</td>\n",
       "      <td>25</td>\n",
       "      <td>5</td>\n",
       "      <td>62482.95</td>\n",
       "      <td>1</td>\n",
       "      <td>1</td>\n",
       "      <td>1</td>\n",
       "      <td>102758.43</td>\n",
       "      <td>0</td>\n",
       "    </tr>\n",
       "    <tr>\n",
       "      <th>2175</th>\n",
       "      <td>2176</td>\n",
       "      <td>15769254</td>\n",
       "      <td>Tuan</td>\n",
       "      <td>757</td>\n",
       "      <td>Germany</td>\n",
       "      <td>Female</td>\n",
       "      <td>34</td>\n",
       "      <td>9</td>\n",
       "      <td>101861.36</td>\n",
       "      <td>2</td>\n",
       "      <td>0</td>\n",
       "      <td>0</td>\n",
       "      <td>187011.96</td>\n",
       "      <td>0</td>\n",
       "    </tr>\n",
       "  </tbody>\n",
       "</table>\n",
       "<p>10000 rows × 14 columns</p>\n",
       "</div>"
      ],
      "text/plain": [
       "      RowNumber  CustomerId    Surname  CreditScore Geography  Gender  Age  \\\n",
       "9374       9375    15632538     Watson          658     Spain  Female   32   \n",
       "2434       2435    15613189     Browne          774    France  Female   52   \n",
       "6669       6670    15797900   Chinomso          517    France    Male   56   \n",
       "3085       3086    15571059     Martin          734    France  Female   54   \n",
       "5082       5083    15793307  Calabresi          724     Spain  Female   41   \n",
       "...         ...         ...        ...          ...       ...     ...  ...   \n",
       "517         518    15781307  Schneider          779   Germany    Male   37   \n",
       "1326       1327    15682773    Hayward          781    France  Female   38   \n",
       "4440       4441    15760121    Maynard          712    France    Male   32   \n",
       "3088       3089    15730448  Iroawuchi          538   Germany    Male   25   \n",
       "2175       2176    15769254       Tuan          757   Germany  Female   34   \n",
       "\n",
       "      Tenure    Balance  NumOfProducts  HasCrCard  IsActiveMember  \\\n",
       "9374       5  145553.07              1          1               1   \n",
       "2434       2   56580.93              1          1               0   \n",
       "6669       9  142147.32              1          0               0   \n",
       "3085       3       0.00              1          1               0   \n",
       "5082       4  142880.28              3          0               0   \n",
       "...      ...        ...            ...        ...             ...   \n",
       "517        7  120092.52              2          1               0   \n",
       "1326       3  128345.69              2          1               0   \n",
       "4440       9  100606.02              1          1               0   \n",
       "3088       5   62482.95              1          1               1   \n",
       "2175       9  101861.36              2          0               0   \n",
       "\n",
       "      EstimatedSalary  Exited  \n",
       "9374         31484.76       0  \n",
       "2434        113266.28       1  \n",
       "6669         39488.04       1  \n",
       "3085        130805.54       1  \n",
       "5082        185541.20       1  \n",
       "...               ...     ...  \n",
       "517         135925.72       0  \n",
       "1326         63218.85       0  \n",
       "4440        165693.06       0  \n",
       "3088        102758.43       0  \n",
       "2175        187011.96       0  \n",
       "\n",
       "[10000 rows x 14 columns]"
      ]
     },
     "execution_count": 29,
     "metadata": {},
     "output_type": "execute_result"
    }
   ],
   "source": [
    "data"
   ]
  },
  {
   "cell_type": "code",
   "execution_count": 30,
   "metadata": {},
   "outputs": [
    {
     "data": {
      "text/plain": [
       "RowNumber          0\n",
       "CustomerId         0\n",
       "Surname            0\n",
       "CreditScore        0\n",
       "Geography          0\n",
       "Gender             0\n",
       "Age                0\n",
       "Tenure             0\n",
       "Balance            0\n",
       "NumOfProducts      0\n",
       "HasCrCard          0\n",
       "IsActiveMember     0\n",
       "EstimatedSalary    0\n",
       "Exited             0\n",
       "dtype: int64"
      ]
     },
     "execution_count": 30,
     "metadata": {},
     "output_type": "execute_result"
    }
   ],
   "source": [
    "# Check for null values\n",
    "data.isnull().sum()"
   ]
  },
  {
   "cell_type": "code",
   "execution_count": 31,
   "metadata": {},
   "outputs": [],
   "source": [
    "# Drop irrelevant columns to set up features vector\n",
    "X = data.drop(labels=['CustomerId', 'Surname', 'RowNumber', 'Exited'], axis = 1) \n",
    "# Set up labels vector\n",
    "y = data['Exited']\n"
   ]
  },
  {
   "cell_type": "code",
   "execution_count": 32,
   "metadata": {},
   "outputs": [
    {
     "data": {
      "text/plain": [
       "CreditScore          int64\n",
       "Geography           object\n",
       "Gender              object\n",
       "Age                  int64\n",
       "Tenure               int64\n",
       "Balance            float64\n",
       "NumOfProducts        int64\n",
       "HasCrCard            int64\n",
       "IsActiveMember       int64\n",
       "EstimatedSalary    float64\n",
       "dtype: object"
      ]
     },
     "execution_count": 32,
     "metadata": {},
     "output_type": "execute_result"
    }
   ],
   "source": [
    "# Check data types for finding categorical columns\n",
    "X.dtypes"
   ]
  },
  {
   "cell_type": "code",
   "execution_count": 33,
   "metadata": {},
   "outputs": [
    {
     "data": {
      "text/html": [
       "<div>\n",
       "<style scoped>\n",
       "    .dataframe tbody tr th:only-of-type {\n",
       "        vertical-align: middle;\n",
       "    }\n",
       "\n",
       "    .dataframe tbody tr th {\n",
       "        vertical-align: top;\n",
       "    }\n",
       "\n",
       "    .dataframe thead th {\n",
       "        text-align: right;\n",
       "    }\n",
       "</style>\n",
       "<table border=\"1\" class=\"dataframe\">\n",
       "  <thead>\n",
       "    <tr style=\"text-align: right;\">\n",
       "      <th></th>\n",
       "      <th>CreditScore</th>\n",
       "      <th>Geography</th>\n",
       "      <th>Gender</th>\n",
       "      <th>Age</th>\n",
       "      <th>Tenure</th>\n",
       "      <th>Balance</th>\n",
       "      <th>NumOfProducts</th>\n",
       "      <th>HasCrCard</th>\n",
       "      <th>IsActiveMember</th>\n",
       "      <th>EstimatedSalary</th>\n",
       "    </tr>\n",
       "  </thead>\n",
       "  <tbody>\n",
       "    <tr>\n",
       "      <th>9374</th>\n",
       "      <td>658</td>\n",
       "      <td>Spain</td>\n",
       "      <td>Female</td>\n",
       "      <td>32</td>\n",
       "      <td>5</td>\n",
       "      <td>145553.07</td>\n",
       "      <td>1</td>\n",
       "      <td>1</td>\n",
       "      <td>1</td>\n",
       "      <td>31484.76</td>\n",
       "    </tr>\n",
       "    <tr>\n",
       "      <th>2434</th>\n",
       "      <td>774</td>\n",
       "      <td>France</td>\n",
       "      <td>Female</td>\n",
       "      <td>52</td>\n",
       "      <td>2</td>\n",
       "      <td>56580.93</td>\n",
       "      <td>1</td>\n",
       "      <td>1</td>\n",
       "      <td>0</td>\n",
       "      <td>113266.28</td>\n",
       "    </tr>\n",
       "    <tr>\n",
       "      <th>6669</th>\n",
       "      <td>517</td>\n",
       "      <td>France</td>\n",
       "      <td>Male</td>\n",
       "      <td>56</td>\n",
       "      <td>9</td>\n",
       "      <td>142147.32</td>\n",
       "      <td>1</td>\n",
       "      <td>0</td>\n",
       "      <td>0</td>\n",
       "      <td>39488.04</td>\n",
       "    </tr>\n",
       "    <tr>\n",
       "      <th>3085</th>\n",
       "      <td>734</td>\n",
       "      <td>France</td>\n",
       "      <td>Female</td>\n",
       "      <td>54</td>\n",
       "      <td>3</td>\n",
       "      <td>0.00</td>\n",
       "      <td>1</td>\n",
       "      <td>1</td>\n",
       "      <td>0</td>\n",
       "      <td>130805.54</td>\n",
       "    </tr>\n",
       "    <tr>\n",
       "      <th>5082</th>\n",
       "      <td>724</td>\n",
       "      <td>Spain</td>\n",
       "      <td>Female</td>\n",
       "      <td>41</td>\n",
       "      <td>4</td>\n",
       "      <td>142880.28</td>\n",
       "      <td>3</td>\n",
       "      <td>0</td>\n",
       "      <td>0</td>\n",
       "      <td>185541.20</td>\n",
       "    </tr>\n",
       "  </tbody>\n",
       "</table>\n",
       "</div>"
      ],
      "text/plain": [
       "      CreditScore Geography  Gender  Age  Tenure    Balance  NumOfProducts  \\\n",
       "9374          658     Spain  Female   32       5  145553.07              1   \n",
       "2434          774    France  Female   52       2   56580.93              1   \n",
       "6669          517    France    Male   56       9  142147.32              1   \n",
       "3085          734    France  Female   54       3       0.00              1   \n",
       "5082          724     Spain  Female   41       4  142880.28              3   \n",
       "\n",
       "      HasCrCard  IsActiveMember  EstimatedSalary  \n",
       "9374          1               1         31484.76  \n",
       "2434          1               0        113266.28  \n",
       "6669          0               0         39488.04  \n",
       "3085          1               0        130805.54  \n",
       "5082          0               0        185541.20  "
      ]
     },
     "execution_count": 33,
     "metadata": {},
     "output_type": "execute_result"
    }
   ],
   "source": [
    "# Examine few records for finding values in categorical columns\n",
    "X.head()"
   ]
  },
  {
   "cell_type": "code",
   "execution_count": 34,
   "metadata": {},
   "outputs": [],
   "source": [
    "# Encode categorical columns\n",
    "from sklearn.preprocessing import LabelEncoder\n",
    "label = LabelEncoder()\n",
    "X['Geography'] = label.fit_transform(X['Geography'])\n",
    "X['Gender'] = label.fit_transform(X['Gender'])\n"
   ]
  },
  {
   "cell_type": "code",
   "execution_count": 35,
   "metadata": {},
   "outputs": [
    {
     "data": {
      "text/html": [
       "<div>\n",
       "<style scoped>\n",
       "    .dataframe tbody tr th:only-of-type {\n",
       "        vertical-align: middle;\n",
       "    }\n",
       "\n",
       "    .dataframe tbody tr th {\n",
       "        vertical-align: top;\n",
       "    }\n",
       "\n",
       "    .dataframe thead th {\n",
       "        text-align: right;\n",
       "    }\n",
       "</style>\n",
       "<table border=\"1\" class=\"dataframe\">\n",
       "  <thead>\n",
       "    <tr style=\"text-align: right;\">\n",
       "      <th></th>\n",
       "      <th>CreditScore</th>\n",
       "      <th>Gender</th>\n",
       "      <th>Age</th>\n",
       "      <th>Tenure</th>\n",
       "      <th>Balance</th>\n",
       "      <th>NumOfProducts</th>\n",
       "      <th>HasCrCard</th>\n",
       "      <th>IsActiveMember</th>\n",
       "      <th>EstimatedSalary</th>\n",
       "      <th>Geography_1</th>\n",
       "      <th>Geography_2</th>\n",
       "    </tr>\n",
       "  </thead>\n",
       "  <tbody>\n",
       "    <tr>\n",
       "      <th>9374</th>\n",
       "      <td>658</td>\n",
       "      <td>0</td>\n",
       "      <td>32</td>\n",
       "      <td>5</td>\n",
       "      <td>145553.07</td>\n",
       "      <td>1</td>\n",
       "      <td>1</td>\n",
       "      <td>1</td>\n",
       "      <td>31484.76</td>\n",
       "      <td>0</td>\n",
       "      <td>1</td>\n",
       "    </tr>\n",
       "    <tr>\n",
       "      <th>2434</th>\n",
       "      <td>774</td>\n",
       "      <td>0</td>\n",
       "      <td>52</td>\n",
       "      <td>2</td>\n",
       "      <td>56580.93</td>\n",
       "      <td>1</td>\n",
       "      <td>1</td>\n",
       "      <td>0</td>\n",
       "      <td>113266.28</td>\n",
       "      <td>0</td>\n",
       "      <td>0</td>\n",
       "    </tr>\n",
       "    <tr>\n",
       "      <th>6669</th>\n",
       "      <td>517</td>\n",
       "      <td>1</td>\n",
       "      <td>56</td>\n",
       "      <td>9</td>\n",
       "      <td>142147.32</td>\n",
       "      <td>1</td>\n",
       "      <td>0</td>\n",
       "      <td>0</td>\n",
       "      <td>39488.04</td>\n",
       "      <td>0</td>\n",
       "      <td>0</td>\n",
       "    </tr>\n",
       "    <tr>\n",
       "      <th>3085</th>\n",
       "      <td>734</td>\n",
       "      <td>0</td>\n",
       "      <td>54</td>\n",
       "      <td>3</td>\n",
       "      <td>0.00</td>\n",
       "      <td>1</td>\n",
       "      <td>1</td>\n",
       "      <td>0</td>\n",
       "      <td>130805.54</td>\n",
       "      <td>0</td>\n",
       "      <td>0</td>\n",
       "    </tr>\n",
       "    <tr>\n",
       "      <th>5082</th>\n",
       "      <td>724</td>\n",
       "      <td>0</td>\n",
       "      <td>41</td>\n",
       "      <td>4</td>\n",
       "      <td>142880.28</td>\n",
       "      <td>3</td>\n",
       "      <td>0</td>\n",
       "      <td>0</td>\n",
       "      <td>185541.20</td>\n",
       "      <td>0</td>\n",
       "      <td>1</td>\n",
       "    </tr>\n",
       "  </tbody>\n",
       "</table>\n",
       "</div>"
      ],
      "text/plain": [
       "      CreditScore  Gender  Age  Tenure    Balance  NumOfProducts  HasCrCard  \\\n",
       "9374          658       0   32       5  145553.07              1          1   \n",
       "2434          774       0   52       2   56580.93              1          1   \n",
       "6669          517       1   56       9  142147.32              1          0   \n",
       "3085          734       0   54       3       0.00              1          1   \n",
       "5082          724       0   41       4  142880.28              3          0   \n",
       "\n",
       "      IsActiveMember  EstimatedSalary  Geography_1  Geography_2  \n",
       "9374               1         31484.76            0            1  \n",
       "2434               0        113266.28            0            0  \n",
       "6669               0         39488.04            0            0  \n",
       "3085               0        130805.54            0            0  \n",
       "5082               0        185541.20            0            1  "
      ]
     },
     "execution_count": 35,
     "metadata": {},
     "output_type": "execute_result"
    }
   ],
   "source": [
    "# Drop the Geography column to reduce the number of features\n",
    "X = pd.get_dummies(X, drop_first=True, columns=['Geography'])\n",
    "X.head()"
   ]
  },
  {
   "cell_type": "code",
   "execution_count": 36,
   "metadata": {},
   "outputs": [],
   "source": [
    "# Scale all data points to -1 to + 1\n",
    "from sklearn.preprocessing import StandardScaler\n",
    "scaler = StandardScaler()\n",
    "X = scaler.fit_transform(X)"
   ]
  },
  {
   "cell_type": "code",
   "execution_count": 37,
   "metadata": {},
   "outputs": [],
   "source": [
    " #Split dataset into training and validation\n",
    "from sklearn.model_selection import train_test_split\n",
    "X_train, X_test, y_train, y_test = train_test_split(X, y, test_size = 0.3)"
   ]
  },
  {
   "cell_type": "code",
   "execution_count": 38,
   "metadata": {},
   "outputs": [
    {
     "data": {
      "text/plain": [
       "11"
      ]
     },
     "execution_count": 38,
     "metadata": {},
     "output_type": "execute_result"
    }
   ],
   "source": [
    "# Determine number of features\n",
    "X_train.shape[1]"
   ]
  },
  {
   "cell_type": "code",
   "execution_count": 39,
   "metadata": {},
   "outputs": [],
   "source": [
    "# Create a stacked layers sequential network\n",
    "model = keras.models.Sequential() # Create linear stack of layers\n",
    "model.add(keras.layers.Dense(128, activation = 'relu', input_dim = X_train.shape[1]))   \n",
    "model.add(keras.layers.Dense(64, activation = 'relu')) \n",
    "model.add(keras.layers.Dense(32, activation = 'relu'))\n",
    "model.add(keras.layers.Dense(1, activation = 'sigmoid')) # activation sigmoid for a single output"
   ]
  },
  {
   "cell_type": "code",
   "execution_count": 40,
   "metadata": {},
   "outputs": [
    {
     "name": "stdout",
     "output_type": "stream",
     "text": [
      "Model: \"sequential_1\"\n",
      "_________________________________________________________________\n",
      "Layer (type)                 Output Shape              Param #   \n",
      "=================================================================\n",
      "dense_4 (Dense)              (None, 128)               1536      \n",
      "_________________________________________________________________\n",
      "dense_5 (Dense)              (None, 64)                8256      \n",
      "_________________________________________________________________\n",
      "dense_6 (Dense)              (None, 32)                2080      \n",
      "_________________________________________________________________\n",
      "dense_7 (Dense)              (None, 1)                 33        \n",
      "=================================================================\n",
      "Total params: 11,905\n",
      "Trainable params: 11,905\n",
      "Non-trainable params: 0\n",
      "_________________________________________________________________\n"
     ]
    }
   ],
   "source": [
    "# Print model summary\n",
    "model.summary()"
   ]
  },
  {
   "cell_type": "code",
   "execution_count": 41,
   "metadata": {},
   "outputs": [],
   "source": [
    "# Compile model with desired loss function, optimizer and evaluation metrics\n",
    "model.compile(loss = 'binary_crossentropy', optimizer='adam', metrics=['accuracy'])"
   ]
  },
  {
   "cell_type": "code",
   "execution_count": 42,
   "metadata": {
    "scrolled": false
   },
   "outputs": [
    {
     "name": "stdout",
     "output_type": "stream",
     "text": [
      "Epoch 1/50\n",
      "219/219 [==============================] - 1s 2ms/step - loss: 0.4675 - accuracy: 0.7960 - val_loss: 0.3599 - val_accuracy: 0.8567\n",
      "Epoch 2/50\n",
      "219/219 [==============================] - 0s 1ms/step - loss: 0.3482 - accuracy: 0.8538 - val_loss: 0.3404 - val_accuracy: 0.8620\n",
      "Epoch 3/50\n",
      "219/219 [==============================] - 0s 1ms/step - loss: 0.3374 - accuracy: 0.8596 - val_loss: 0.3478 - val_accuracy: 0.8620\n",
      "Epoch 4/50\n",
      "219/219 [==============================] - 0s 1ms/step - loss: 0.3471 - accuracy: 0.8591 - val_loss: 0.3384 - val_accuracy: 0.8633\n",
      "Epoch 5/50\n",
      "219/219 [==============================] - 0s 1ms/step - loss: 0.3389 - accuracy: 0.8605 - val_loss: 0.3440 - val_accuracy: 0.8603\n",
      "Epoch 6/50\n",
      "219/219 [==============================] - 0s 1ms/step - loss: 0.3269 - accuracy: 0.8631 - val_loss: 0.3323 - val_accuracy: 0.8620\n",
      "Epoch 7/50\n",
      "219/219 [==============================] - 0s 987us/step - loss: 0.3251 - accuracy: 0.8685 - val_loss: 0.3440 - val_accuracy: 0.8543\n",
      "Epoch 8/50\n",
      "219/219 [==============================] - 0s 986us/step - loss: 0.3279 - accuracy: 0.8637 - val_loss: 0.3318 - val_accuracy: 0.8667\n",
      "Epoch 9/50\n",
      "219/219 [==============================] - 0s 1ms/step - loss: 0.3045 - accuracy: 0.8769 - val_loss: 0.3309 - val_accuracy: 0.8587\n",
      "Epoch 10/50\n",
      "219/219 [==============================] - 0s 1ms/step - loss: 0.3126 - accuracy: 0.8688 - val_loss: 0.3529 - val_accuracy: 0.8503\n",
      "Epoch 11/50\n",
      "219/219 [==============================] - 0s 1ms/step - loss: 0.3149 - accuracy: 0.8699 - val_loss: 0.3359 - val_accuracy: 0.8577\n",
      "Epoch 12/50\n",
      "219/219 [==============================] - 0s 1ms/step - loss: 0.2945 - accuracy: 0.8772 - val_loss: 0.3413 - val_accuracy: 0.8603\n",
      "Epoch 13/50\n",
      "219/219 [==============================] - 0s 1ms/step - loss: 0.2968 - accuracy: 0.8762 - val_loss: 0.3341 - val_accuracy: 0.8643\n",
      "Epoch 14/50\n",
      "219/219 [==============================] - 0s 1ms/step - loss: 0.2940 - accuracy: 0.8772 - val_loss: 0.3424 - val_accuracy: 0.8633\n",
      "Epoch 15/50\n",
      "219/219 [==============================] - 0s 869us/step - loss: 0.2914 - accuracy: 0.8828 - val_loss: 0.3502 - val_accuracy: 0.8543\n",
      "Epoch 16/50\n",
      "219/219 [==============================] - 0s 855us/step - loss: 0.2777 - accuracy: 0.8837 - val_loss: 0.3659 - val_accuracy: 0.8580\n",
      "Epoch 17/50\n",
      "219/219 [==============================] - 0s 1ms/step - loss: 0.2891 - accuracy: 0.8749 - val_loss: 0.3507 - val_accuracy: 0.8620\n",
      "Epoch 18/50\n",
      "219/219 [==============================] - 0s 1ms/step - loss: 0.2793 - accuracy: 0.8843 - val_loss: 0.3512 - val_accuracy: 0.8580\n",
      "Epoch 19/50\n",
      "219/219 [==============================] - 0s 1ms/step - loss: 0.2790 - accuracy: 0.8807 - val_loss: 0.3595 - val_accuracy: 0.8497\n",
      "Epoch 20/50\n",
      "219/219 [==============================] - 0s 1ms/step - loss: 0.2810 - accuracy: 0.8842 - val_loss: 0.3680 - val_accuracy: 0.8467\n",
      "Epoch 21/50\n",
      "219/219 [==============================] - 0s 1ms/step - loss: 0.2693 - accuracy: 0.8916 - val_loss: 0.3564 - val_accuracy: 0.8580\n",
      "Epoch 22/50\n",
      "219/219 [==============================] - 0s 1ms/step - loss: 0.2645 - accuracy: 0.8903 - val_loss: 0.3717 - val_accuracy: 0.8607\n",
      "Epoch 23/50\n",
      "219/219 [==============================] - 0s 1ms/step - loss: 0.2602 - accuracy: 0.8898 - val_loss: 0.3616 - val_accuracy: 0.8553\n",
      "Epoch 24/50\n",
      "219/219 [==============================] - 0s 1ms/step - loss: 0.2553 - accuracy: 0.8916 - val_loss: 0.3703 - val_accuracy: 0.8540\n",
      "Epoch 25/50\n",
      "219/219 [==============================] - 0s 1ms/step - loss: 0.2580 - accuracy: 0.8915 - val_loss: 0.3704 - val_accuracy: 0.8510\n",
      "Epoch 26/50\n",
      "219/219 [==============================] - 0s 1ms/step - loss: 0.2562 - accuracy: 0.8898 - val_loss: 0.3707 - val_accuracy: 0.8577\n",
      "Epoch 27/50\n",
      "219/219 [==============================] - 0s 1ms/step - loss: 0.2511 - accuracy: 0.8905 - val_loss: 0.3823 - val_accuracy: 0.8490\n",
      "Epoch 28/50\n",
      "219/219 [==============================] - 0s 1ms/step - loss: 0.2401 - accuracy: 0.8949 - val_loss: 0.3824 - val_accuracy: 0.8487\n",
      "Epoch 29/50\n",
      "219/219 [==============================] - 0s 1ms/step - loss: 0.2417 - accuracy: 0.8935 - val_loss: 0.3854 - val_accuracy: 0.8503\n",
      "Epoch 30/50\n",
      "219/219 [==============================] - 0s 1ms/step - loss: 0.2387 - accuracy: 0.8955 - val_loss: 0.3934 - val_accuracy: 0.8410\n",
      "Epoch 31/50\n",
      "219/219 [==============================] - 0s 1ms/step - loss: 0.2315 - accuracy: 0.9078 - val_loss: 0.3966 - val_accuracy: 0.8587\n",
      "Epoch 32/50\n",
      "219/219 [==============================] - 0s 1ms/step - loss: 0.2322 - accuracy: 0.9017 - val_loss: 0.4001 - val_accuracy: 0.8550\n",
      "Epoch 33/50\n",
      "219/219 [==============================] - 0s 1ms/step - loss: 0.2211 - accuracy: 0.9070 - val_loss: 0.4117 - val_accuracy: 0.8417\n",
      "Epoch 34/50\n",
      "219/219 [==============================] - 0s 1ms/step - loss: 0.2428 - accuracy: 0.8957 - val_loss: 0.4105 - val_accuracy: 0.8480\n",
      "Epoch 35/50\n",
      "219/219 [==============================] - 0s 1ms/step - loss: 0.2202 - accuracy: 0.9061 - val_loss: 0.4237 - val_accuracy: 0.8410\n",
      "Epoch 36/50\n",
      "219/219 [==============================] - 0s 1ms/step - loss: 0.2193 - accuracy: 0.9068 - val_loss: 0.4256 - val_accuracy: 0.8470\n",
      "Epoch 37/50\n",
      "219/219 [==============================] - 0s 1ms/step - loss: 0.2075 - accuracy: 0.9123 - val_loss: 0.4219 - val_accuracy: 0.8470\n",
      "Epoch 38/50\n",
      "219/219 [==============================] - 0s 982us/step - loss: 0.2018 - accuracy: 0.9175 - val_loss: 0.4218 - val_accuracy: 0.8420\n",
      "Epoch 39/50\n",
      "219/219 [==============================] - 0s 929us/step - loss: 0.1974 - accuracy: 0.9165 - val_loss: 0.4306 - val_accuracy: 0.8407\n",
      "Epoch 40/50\n",
      "219/219 [==============================] - 0s 1ms/step - loss: 0.1920 - accuracy: 0.9206 - val_loss: 0.4507 - val_accuracy: 0.8553\n",
      "Epoch 41/50\n",
      "219/219 [==============================] - 0s 1ms/step - loss: 0.2054 - accuracy: 0.9114 - val_loss: 0.4540 - val_accuracy: 0.8477\n",
      "Epoch 42/50\n",
      "219/219 [==============================] - 0s 924us/step - loss: 0.1948 - accuracy: 0.9193 - val_loss: 0.4647 - val_accuracy: 0.8443\n",
      "Epoch 43/50\n",
      "219/219 [==============================] - 0s 879us/step - loss: 0.1914 - accuracy: 0.9176 - val_loss: 0.4688 - val_accuracy: 0.8430\n",
      "Epoch 44/50\n",
      "219/219 [==============================] - 0s 1ms/step - loss: 0.1849 - accuracy: 0.9201 - val_loss: 0.4742 - val_accuracy: 0.8323\n",
      "Epoch 45/50\n",
      "219/219 [==============================] - 0s 1ms/step - loss: 0.1759 - accuracy: 0.9283 - val_loss: 0.4549 - val_accuracy: 0.8330\n",
      "Epoch 46/50\n",
      "219/219 [==============================] - 0s 1ms/step - loss: 0.1724 - accuracy: 0.9261 - val_loss: 0.4937 - val_accuracy: 0.8380\n",
      "Epoch 47/50\n",
      "219/219 [==============================] - 0s 989us/step - loss: 0.1706 - accuracy: 0.9246 - val_loss: 0.4988 - val_accuracy: 0.8370\n",
      "Epoch 48/50\n",
      "219/219 [==============================] - 0s 940us/step - loss: 0.1612 - accuracy: 0.9312 - val_loss: 0.5337 - val_accuracy: 0.8337\n",
      "Epoch 49/50\n",
      "219/219 [==============================] - 0s 1ms/step - loss: 0.1709 - accuracy: 0.9264 - val_loss: 0.4992 - val_accuracy: 0.8373\n",
      "Epoch 50/50\n",
      "219/219 [==============================] - 0s 1ms/step - loss: 0.1605 - accuracy: 0.9318 - val_loss: 0.5031 - val_accuracy: 0.8220\n"
     ]
    }
   ],
   "source": [
    "r = model.fit(X_train, y_train, batch_size = 32, epochs = 50, validation_data = (X_test, y_test))"
   ]
  },
  {
   "cell_type": "code",
   "execution_count": 43,
   "metadata": {},
   "outputs": [
    {
     "name": "stdout",
     "output_type": "stream",
     "text": [
      "94/94 [==============================] - 0s 505us/step - loss: 0.5031 - accuracy: 0.8220\n",
      "Test Loss:  0.5030814409255981\n",
      "Test accuracy:  82.20000267028809\n"
     ]
    }
   ],
   "source": [
    "# evaluate model performance on test data\n",
    "test_scores = model.evaluate(X_test, y_test)\n",
    "print('Test Loss: ', test_scores[0])\n",
    "print('Test accuracy: ', test_scores[1] * 100)"
   ]
  },
  {
   "cell_type": "code",
   "execution_count": 44,
   "metadata": {},
   "outputs": [
    {
     "data": {
      "image/png": "[encoded data removed]",
      "text/plain": [
       "<Figure size 432x288 with 1 Axes>"
      ]
     },
     "metadata": {
      "needs_background": "light"
     },
     "output_type": "display_data"
    }
   ],
   "source": [
    "# Plot metrics in matplotlib\n",
    "%matplotlib inline\n",
    "import matplotlib.pyplot as plt #for plotting curves\n",
    "\n",
    "plt.plot(r.history['val_accuracy'], label='val_acc')\n",
    "plt.plot(r.history['val_loss'], label='val_loss')\n",
    "plt.legend()\n",
    "plt.show()"
   ]
  },
  {
   "cell_type": "code",
   "execution_count": 45,
   "metadata": {},
   "outputs": [
    {
     "name": "stderr",
     "output_type": "stream",
     "text": [
      "/opt/anaconda3/lib/python3.8/site-packages/tensorflow/python/keras/engine/sequential.py:450: UserWarning: `model.predict_classes()` is deprecated and will be removed after 2021-01-01. Please use instead:* `np.argmax(model.predict(x), axis=-1)`,   if your model does multi-class classification   (e.g. if it uses a `softmax` last-layer activation).* `(model.predict(x) > 0.5).astype(\"int32\")`,   if your model does binary classification   (e.g. if it uses a `sigmoid` last-layer activation).\n",
      "  warnings.warn('`model.predict_classes()` is deprecated and '\n"
     ]
    },
    {
     "data": {
      "text/plain": [
       "array([[0],\n",
       "       [0],\n",
       "       [0],\n",
       "       ...,\n",
       "       [0],\n",
       "       [1],\n",
       "       [0]], dtype=int32)"
      ]
     },
     "execution_count": 45,
     "metadata": {},
     "output_type": "execute_result"
    }
   ],
   "source": [
    "# Predict on test data\n",
    "y_pred = model.predict_classes(X_test)\n",
    "y_pred"
   ]
  },
  {
   "cell_type": "code",
   "execution_count": 46,
   "metadata": {},
   "outputs": [
    {
     "data": {
      "text/plain": [
       "0.822"
      ]
     },
     "execution_count": 46,
     "metadata": {},
     "output_type": "execute_result"
    }
   ],
   "source": [
    "# Compute accuracy score\n",
    "from sklearn.metrics import accuracy_score\n",
    "accuracy_score(y_test, y_pred)\n",
    "\n"
   ]
  },
  {
   "cell_type": "code",
   "execution_count": 47,
   "metadata": {},
   "outputs": [
    {
     "data": {
      "text/plain": [
       "array([[0.]], dtype=float32)"
      ]
     },
     "execution_count": 47,
     "metadata": {},
     "output_type": "execute_result"
    }
   ],
   "source": [
    "# Predict on unseen customer data\n",
    "customer = model.predict([[615, 1, 22, 5, 20000, 5, 1, 1, 60000, 0, 0]])\n",
    "customer"
   ]
  },
  {
   "cell_type": "code",
   "execution_count": 48,
   "metadata": {},
   "outputs": [
    {
     "name": "stdout",
     "output_type": "stream",
     "text": [
      "Customer will stay\n"
     ]
    }
   ],
   "source": [
    "if customer[0] == 1:\n",
    "    print (\"Customer is likely to leave\")\n",
    "else:\n",
    "    print (\"Customer will stay\")"
   ]
  },
  {
   "cell_type": "code",
   "execution_count": null,
   "metadata": {},
   "outputs": [],
   "source": []
  },
  {
   "cell_type": "code",
   "execution_count": null,
   "metadata": {},
   "outputs": [],
   "source": []
  },
  {
   "cell_type": "code",
   "execution_count": null,
   "metadata": {},
   "outputs": [],
   "source": []
  }
 ],
 "metadata": {
  "kernelspec": {
   "display_name": "Python 3",
   "language": "python",
   "name": "python3"
  },
  "language_info": {
   "codemirror_mode": {
    "name": "ipython",
    "version": 3
   },
   "file_extension": ".py",
   "mimetype": "text/x-python",
   "name": "python",
   "nbconvert_exporter": "python",
   "pygments_lexer": "ipython3",
   "version": "3.8.5"
  }
 },
 "nbformat": 4,
 "nbformat_minor": 4
}
