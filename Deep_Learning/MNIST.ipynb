{
 "cells": [
  {
   "cell_type": "code",
   "execution_count": 1,
   "metadata": {},
   "outputs": [],
   "source": [
    "import tensorflow as tf\n",
    "import pandas as pd\n",
    "from sklearn.metrics import accuracy_score\n",
    " \n",
    "import matplotlib.pyplot as plt\n",
    "%matplotlib inline\n",
    " \n",
    "from pandas import get_dummies"
   ]
  },
  {
   "cell_type": "code",
   "execution_count": 2,
   "metadata": {},
   "outputs": [],
   "source": [
    "mnist = tf.keras.datasets.mnist\n",
    "\n",
    "(train_features, train_labels), (test_features, test_labels) = mnist.load_data()"
   ]
  },
  {
   "cell_type": "code",
   "execution_count": 3,
   "metadata": {},
   "outputs": [],
   "source": [
    "train_features, test_features = train_features / 255.0, test_features / 255.0\n",
    "\n",
    "x = tf.reshape(train_features, [60000, 784])\n",
    "x = tf.Variable(x)\n",
    "x = tf.cast(x, tf.float32)\n",
    "\n",
    "y_hot = get_dummies(train_labels)\n",
    "y = y_hot.values"
   ]
  },
  {
   "cell_type": "code",
   "execution_count": 4,
   "metadata": {},
   "outputs": [],
   "source": [
    "#defining the parameters\n",
    "Number_of_features = 784\n",
    "Number_of_units = 10\n",
    "\n",
    "# weights and bias\n",
    "weight = tf.Variable(tf.zeros([Number_of_features, Number_of_units]))  \n",
    "bias = tf.Variable(tf.zeros([Number_of_units]))\n",
    " \n",
    "#perceptron definition\n",
    "def perceptron(x):\n",
    "    z = tf.add(tf.matmul(x,weight),bias)\n",
    "    output = tf.nn.softmax(z)\n",
    "    return output\n",
    " \n",
    " #optimizer\n",
    "optimizer = tf.optimizers.Adam(.01)\n",
    " \n",
    "#training definition\n",
    "def train(i):\n",
    "    for n in range(i):\n",
    "        loss=lambda: abs(tf.reduce_mean(tf.nn.softmax_cross_entropy_with_logits(labels=y, logits=perceptron(x))))\n",
    "        optimizer.minimize(loss, [weight, bias])\n",
    " \n",
    "#Train the network\n",
    "train(1000)"
   ]
  },
  {
   "cell_type": "code",
   "execution_count": 5,
   "metadata": {},
   "outputs": [],
   "source": [
    "# Prepare the test data to measure the accuracy. \n",
    "test = tf.reshape(test_features, [10000, 784])\n",
    " \n",
    "test = tf.Variable(test)\n",
    "test = tf.cast(test, tf.float32)\n",
    " \n",
    "test_hot = get_dummies(test_labels)\n",
    "test_matrix = test_hot.values"
   ]
  },
  {
   "cell_type": "code",
   "execution_count": 6,
   "metadata": {},
   "outputs": [],
   "source": [
    "ypred = perceptron(test)\n",
    "ypred = tf.round(ypred)"
   ]
  },
  {
   "cell_type": "code",
   "execution_count": 7,
   "metadata": {},
   "outputs": [
    {
     "data": {
      "text/plain": [
       "0.9304"
      ]
     },
     "execution_count": 7,
     "metadata": {},
     "output_type": "execute_result"
    }
   ],
   "source": [
    "accuracy_score(test_hot, ypred)"
   ]
  },
  {
   "cell_type": "code",
   "execution_count": null,
   "metadata": {},
   "outputs": [],
   "source": []
  }
 ],
 "metadata": {
  "kernelspec": {
   "display_name": "Python 3",
   "language": "python",
   "name": "python3"
  },
  "language_info": {
   "codemirror_mode": {
    "name": "ipython",
    "version": 3
   },
   "file_extension": ".py",
   "mimetype": "text/x-python",
   "name": "python",
   "nbconvert_exporter": "python",
   "pygments_lexer": "ipython3",
   "version": "3.8.5"
  }
 },
 "nbformat": 4,
 "nbformat_minor": 4
}
