{
 "cells": [
  {
   "cell_type": "code",
   "execution_count": 3,
   "metadata": {},
   "outputs": [],
   "source": [
    "import tensorflow as tf\n",
    "from tensorflow.keras import datasets, layers, models, optimizers\n",
    "\n",
    "# CIFAR_10 is a set of 60K images 32x32 pixels on 3 channels\n",
    "IMG_CHANNELS = 3\n",
    "IMG_ROWS = 32\n",
    "IMG_COLS = 32\n",
    "\n",
    "#constant\n",
    "BATCH_SIZE = 128\n",
    "EPOCHS = 20\n",
    "CLASSES = 10\n",
    "VERBOSE = 1\n",
    "VALIDATION_SPLIT = 0.2\n",
    "OPTIM = tf.keras.optimizers.RMSprop()"
   ]
  },
  {
   "cell_type": "code",
   "execution_count": 4,
   "metadata": {},
   "outputs": [],
   "source": [
    "#define the convnet \n",
    "def build(input_shape, classes):\n",
    "    model = models.Sequential() \n",
    "    model.add(layers.Convolution2D(32, (3, 3), activation='relu',\n",
    "                        input_shape=input_shape))\n",
    "    model.add(layers.MaxPooling2D(pool_size=(2, 2)))\n",
    "    model.add(layers.Dropout(0.25)) \n",
    "\n",
    "    model.add(layers.Flatten())\n",
    "    model.add(layers.Dense(512, activation='relu'))\n",
    "    model.add(layers.Dropout(0.5))\n",
    "    model.add(layers.Dense(classes, activation='softmax'))\n",
    "    return model\n"
   ]
  },
  {
   "cell_type": "code",
   "execution_count": 6,
   "metadata": {},
   "outputs": [
    {
     "name": "stdout",
     "output_type": "stream",
     "text": [
      "Downloading data from https://www.cs.toronto.edu/~kriz/cifar-10-python.tar.gz\n",
      "170500096/170498071 [==============================] - 5664s 33us/step\n"
     ]
    }
   ],
   "source": [
    " #data: shuffled and split between train and test sets\n",
    "(X_train, y_train), (X_test, y_test) = datasets.cifar10.load_data()\n",
    "# normalize\n",
    "X_train, X_test = X_train / 255.0, X_test / 255.0\n",
    "# convert to categorical\n",
    "# convert class vectors to binary class matrices\n",
    "y_train = tf.keras.utils.to_categorical(y_train, CLASSES)\n",
    "y_test = tf.keras.utils.to_categorical(y_test, CLASSES)"
   ]
  },
  {
   "cell_type": "code",
   "execution_count": 7,
   "metadata": {},
   "outputs": [
    {
     "name": "stdout",
     "output_type": "stream",
     "text": [
      "Model: \"sequential_1\"\n",
      "_________________________________________________________________\n",
      "Layer (type)                 Output Shape              Param #   \n",
      "=================================================================\n",
      "conv2d (Conv2D)              (None, 30, 30, 32)        896       \n",
      "_________________________________________________________________\n",
      "max_pooling2d (MaxPooling2D) (None, 15, 15, 32)        0         \n",
      "_________________________________________________________________\n",
      "dropout (Dropout)            (None, 15, 15, 32)        0         \n",
      "_________________________________________________________________\n",
      "flatten (Flatten)            (None, 7200)              0         \n",
      "_________________________________________________________________\n",
      "dense (Dense)                (None, 512)               3686912   \n",
      "_________________________________________________________________\n",
      "dropout_1 (Dropout)          (None, 512)               0         \n",
      "_________________________________________________________________\n",
      "dense_1 (Dense)              (None, 10)                5130      \n",
      "=================================================================\n",
      "Total params: 3,692,938\n",
      "Trainable params: 3,692,938\n",
      "Non-trainable params: 0\n",
      "_________________________________________________________________\n"
     ]
    }
   ],
   "source": [
    "model=build((IMG_ROWS, IMG_COLS, IMG_CHANNELS), CLASSES)\n",
    "model.summary()\n",
    "\n",
    "# use TensorBoard, princess Aurora!\n",
    "callbacks = [\n",
    "  # Write TensorBoard logs to `./logs` directory\n",
    "  tf.keras.callbacks.TensorBoard(log_dir='./logs')\n",
    "]"
   ]
  },
  {
   "cell_type": "code",
   "execution_count": 8,
   "metadata": {},
   "outputs": [],
   "source": [
    "model.compile(loss='categorical_crossentropy', optimizer=OPTIM,\n",
    "\tmetrics=['accuracy'])\n",
    " "
   ]
  },
  {
   "cell_type": "code",
   "execution_count": 9,
   "metadata": {},
   "outputs": [
    {
     "name": "stdout",
     "output_type": "stream",
     "text": [
      "Epoch 1/20\n",
      "313/313 [==============================] - 25s 79ms/step - loss: 1.9257 - accuracy: 0.3257 - val_loss: 1.4572 - val_accuracy: 0.4811\n",
      "Epoch 2/20\n",
      "313/313 [==============================] - 23s 74ms/step - loss: 1.3586 - accuracy: 0.5254 - val_loss: 1.3078 - val_accuracy: 0.5375\n",
      "Epoch 3/20\n",
      "313/313 [==============================] - 23s 73ms/step - loss: 1.2338 - accuracy: 0.5660 - val_loss: 1.2331 - val_accuracy: 0.5679\n",
      "Epoch 4/20\n",
      "313/313 [==============================] - 23s 73ms/step - loss: 1.1244 - accuracy: 0.6082 - val_loss: 1.1840 - val_accuracy: 0.5877\n",
      "Epoch 5/20\n",
      "313/313 [==============================] - 23s 72ms/step - loss: 1.0608 - accuracy: 0.6295 - val_loss: 1.1187 - val_accuracy: 0.6079\n",
      "Epoch 6/20\n",
      "313/313 [==============================] - 26s 83ms/step - loss: 0.9915 - accuracy: 0.6526 - val_loss: 1.1494 - val_accuracy: 0.6107\n",
      "Epoch 7/20\n",
      "313/313 [==============================] - 78s 249ms/step - loss: 0.9201 - accuracy: 0.6815 - val_loss: 1.1388 - val_accuracy: 0.6105\n",
      "Epoch 8/20\n",
      "313/313 [==============================] - 31s 99ms/step - loss: 0.8837 - accuracy: 0.6983 - val_loss: 1.0099 - val_accuracy: 0.6549\n",
      "Epoch 9/20\n",
      "313/313 [==============================] - 33s 104ms/step - loss: 0.8220 - accuracy: 0.7176 - val_loss: 1.0148 - val_accuracy: 0.6618\n",
      "Epoch 10/20\n",
      "313/313 [==============================] - 35s 113ms/step - loss: 0.7854 - accuracy: 0.7281 - val_loss: 1.0144 - val_accuracy: 0.6654\n",
      "Epoch 11/20\n",
      "313/313 [==============================] - 40s 128ms/step - loss: 0.7400 - accuracy: 0.7436 - val_loss: 1.0388 - val_accuracy: 0.6449\n",
      "Epoch 12/20\n",
      "313/313 [==============================] - 34s 110ms/step - loss: 0.7111 - accuracy: 0.7528 - val_loss: 1.0958 - val_accuracy: 0.6501\n",
      "Epoch 13/20\n",
      "313/313 [==============================] - 32s 103ms/step - loss: 0.6737 - accuracy: 0.7677 - val_loss: 1.0037 - val_accuracy: 0.6719\n",
      "Epoch 14/20\n",
      "313/313 [==============================] - 37s 117ms/step - loss: 0.6307 - accuracy: 0.7832 - val_loss: 1.0900 - val_accuracy: 0.6584\n",
      "Epoch 15/20\n",
      "313/313 [==============================] - 36s 116ms/step - loss: 0.6086 - accuracy: 0.7913 - val_loss: 1.1078 - val_accuracy: 0.6532\n",
      "Epoch 16/20\n",
      "313/313 [==============================] - 33s 105ms/step - loss: 0.5914 - accuracy: 0.8005 - val_loss: 1.0375 - val_accuracy: 0.6800\n",
      "Epoch 17/20\n",
      "313/313 [==============================] - 52s 168ms/step - loss: 0.5700 - accuracy: 0.8044 - val_loss: 1.0891 - val_accuracy: 0.6666\n",
      "Epoch 18/20\n",
      "313/313 [==============================] - 60s 190ms/step - loss: 0.5472 - accuracy: 0.8112 - val_loss: 1.0700 - val_accuracy: 0.6791\n",
      "Epoch 19/20\n",
      "313/313 [==============================] - 29s 93ms/step - loss: 0.5165 - accuracy: 0.8260 - val_loss: 1.0375 - val_accuracy: 0.6845\n",
      "Epoch 20/20\n",
      "313/313 [==============================] - 29s 93ms/step - loss: 0.4999 - accuracy: 0.8297 - val_loss: 1.1363 - val_accuracy: 0.6780\n",
      "79/79 [==============================] - 1s 15ms/step - loss: 1.1150 - accuracy: 0.6684\n",
      "\n",
      "Test score: 1.1150192022323608\n",
      "Test accuracy: 0.66839998960495\n"
     ]
    }
   ],
   "source": [
    "model.fit(X_train, y_train, batch_size=BATCH_SIZE,\n",
    "\tepochs=EPOCHS, validation_split=VALIDATION_SPLIT, \n",
    "\tverbose=VERBOSE, callbacks=callbacks) \n",
    "score = model.evaluate(X_test, y_test,\n",
    "                     batch_size=BATCH_SIZE, verbose=VERBOSE)\n",
    "print(\"\\nTest score:\", score[0])\n",
    "print('Test accuracy:', score[1])"
   ]
  },
  {
   "cell_type": "code",
   "execution_count": null,
   "metadata": {},
   "outputs": [],
   "source": []
  }
 ],
 "metadata": {
  "kernelspec": {
   "display_name": "Python 3",
   "language": "python",
   "name": "python3"
  },
  "language_info": {
   "codemirror_mode": {
    "name": "ipython",
    "version": 3
   },
   "file_extension": ".py",
   "mimetype": "text/x-python",
   "name": "python",
   "nbconvert_exporter": "python",
   "pygments_lexer": "ipython3",
   "version": "3.8.5"
  }
 },
 "nbformat": 4,
 "nbformat_minor": 4
}
